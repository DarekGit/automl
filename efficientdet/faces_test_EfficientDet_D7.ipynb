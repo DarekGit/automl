{
  "nbformat": 4,
  "nbformat_minor": 0,
  "metadata": {
    "accelerator": "GPU",
    "colab": {
      "name": "faces_test_EfficientDet_D7.ipynb",
      "provenance": [],
      "collapsed_sections": [
        "V8-yl-s-WKMG"
      ],
      "machine_shape": "hm",
      "include_colab_link": true
    },
    "kernelspec": {
      "name": "python3",
      "display_name": "Python 3"
    }
  },
  "cells": [
    {
      "cell_type": "markdown",
      "metadata": {
        "id": "view-in-github",
        "colab_type": "text"
      },
      "source": [
        "<a href=\"https://colab.research.google.com/github/DarekGit/automl/blob/master/efficientdet/faces_test_EfficientDet_D7.ipynb\" target=\"_parent\"><img src=\"https://colab.research.google.com/assets/colab-badge.svg\" alt=\"Open In Colab\"/></a>"
      ]
    },
    {
      "cell_type": "markdown",
      "metadata": {
        "id": "V8-yl-s-WKMG"
      },
      "source": [
        "# Test of EfficientDet with Faces datasets \n",
        "\n",
        "\n",
        "\n",
        "<table align=\"left\"><td>\n",
        "  <a target=\"_blank\"  href=\"https://github.com/DarekGit/automl/blob/master/efficientdet/faces_test_EfficientDet.ipynb\">\n",
        "    <img src=\"https://www.tensorflow.org/images/GitHub-Mark-32px.png\" />View source on github\n",
        "  </a>\n",
        "</td><td>\n",
        "  <a target=\"_blank\"  href=\"https://github.com/DarekGit/automl/blob/master/efficientdet/faces_test_EfficientDet.ipynb\">\n",
        "    <img width=32px src=\"https://www.tensorflow.org/images/colab_logo_32px.png\" />Run in Google Colab</a>\n",
        "</td></table>\n",
        "\n",
        "<br><br><br><br><br><br>\n",
        "\n",
        "https://github.com/DarekGit/automl/tree/master/efficientdet"
      ]
    },
    {
      "cell_type": "markdown",
      "metadata": {
        "id": "muwOCNHaq85j"
      },
      "source": [
        "# 0. Install."
      ]
    },
    {
      "cell_type": "markdown",
      "metadata": {
        "id": "dggLVarNxxvC"
      },
      "source": [
        "## 0.1 Install package and download source code/image.\n",
        "\n"
      ]
    },
    {
      "cell_type": "code",
      "metadata": {
        "id": "eAdPXWPRuES0",
        "colab": {
          "base_uri": "https://localhost:8080/"
        },
        "outputId": "6e42bac3-8354-4375-f78b-0bec5dbcb1cc"
      },
      "source": [
        "!nvidia-smi"
      ],
      "execution_count": 1,
      "outputs": [
        {
          "output_type": "stream",
          "text": [
            "Sun Dec  6 12:24:04 2020       \n",
            "+-----------------------------------------------------------------------------+\n",
            "| NVIDIA-SMI 455.45.01    Driver Version: 418.67       CUDA Version: 10.1     |\n",
            "|-------------------------------+----------------------+----------------------+\n",
            "| GPU  Name        Persistence-M| Bus-Id        Disp.A | Volatile Uncorr. ECC |\n",
            "| Fan  Temp  Perf  Pwr:Usage/Cap|         Memory-Usage | GPU-Util  Compute M. |\n",
            "|                               |                      |               MIG M. |\n",
            "|===============================+======================+======================|\n",
            "|   0  Tesla V100-SXM2...  Off  | 00000000:00:04.0 Off |                    0 |\n",
            "| N/A   34C    P0    24W / 300W |      0MiB / 16130MiB |      0%      Default |\n",
            "|                               |                      |                 ERR! |\n",
            "+-------------------------------+----------------------+----------------------+\n",
            "                                                                               \n",
            "+-----------------------------------------------------------------------------+\n",
            "| Processes:                                                                  |\n",
            "|  GPU   GI   CI        PID   Type   Process name                  GPU Memory |\n",
            "|        ID   ID                                                   Usage      |\n",
            "|=============================================================================|\n",
            "|  No running processes found                                                 |\n",
            "+-----------------------------------------------------------------------------+\n"
          ],
          "name": "stdout"
        }
      ]
    },
    {
      "cell_type": "code",
      "metadata": {
        "id": "e_OpaA_pWkvx",
        "colab": {
          "base_uri": "https://localhost:8080/"
        },
        "outputId": "33f89a3b-5e8f-482d-d509-6cb60cfffe4e"
      },
      "source": [
        "# OUTPUT_DIR on gdrive (Google Drive) or tmp\n",
        "import os\n",
        "\n",
        "output='gdrive' # @param gdrive for google drive\n",
        "\n",
        "if output == 'gdrive':\n",
        "  from google.colab import drive\n",
        "  drive.mount('/content/drive')\n",
        "\n",
        "  OUTPUT_DIR = os.path.join(\"/content/drive/My Drive/\", \"tmp\")\n",
        "  os.makedirs(OUTPUT_DIR, exist_ok=True)\n",
        "else:\n",
        "  OUTPUT_DIR = output \n"
      ],
      "execution_count": 2,
      "outputs": [
        {
          "output_type": "stream",
          "text": [
            "Mounted at /content/drive\n"
          ],
          "name": "stdout"
        }
      ]
    },
    {
      "cell_type": "code",
      "metadata": {
        "id": "hGL97-GXjSUw"
      },
      "source": [
        "#originally https://github.com/google/automl\n",
        "%%capture\n",
        "#@title\n",
        "import os\n",
        "import sys\n",
        "import tensorflow.compat.v1 as tf\n",
        "\n",
        "# Download source code.\n",
        "if \"efficientdet\" not in os.getcwd():\n",
        "  !git clone --depth 1 https://github.com/DarekGit/automl\n",
        "  os.chdir('automl/efficientdet')\n",
        "  sys.path.append('.')\n",
        "  !pip install -r requirements.txt\n",
        "  !pip install -U 'git+https://github.com/cocodataset/cocoapi.git#subdirectory=PythonAPI'\n",
        "else:\n",
        "  !git pull"
      ],
      "execution_count": 3,
      "outputs": []
    },
    {
      "cell_type": "code",
      "metadata": {
        "id": "ro2qY4Mc304a",
        "colab": {
          "base_uri": "https://localhost:8080/"
        },
        "outputId": "adb4b235-672e-4735-d6d5-e5f709541492"
      },
      "source": [
        "from PIL.Image import Image\n",
        "\n",
        "MODEL = 'efficientdet-d7'  # @param\n",
        "\n",
        "def download(m):\n",
        "  if m not in os.listdir():\n",
        "    !wget https://storage.googleapis.com/cloud-tpu-checkpoints/efficientdet/coco/{m}.tar.gz\n",
        "    !tar zxf {m}.tar.gz\n",
        "  ckpt_path = os.path.join(os.getcwd(), m)\n",
        "  return ckpt_path\n",
        "\n",
        "# Download checkpoint.\n",
        "ckpt_path = download(MODEL)\n",
        "print('Use model in {}'.format(ckpt_path))\n",
        "\n",
        "\n",
        "min_score_thresh = 0.35  #@param\n",
        "max_boxes_to_draw = 2000  #@param\n",
        "line_thickness =   2. #@param\n",
        "\n"
      ],
      "execution_count": 4,
      "outputs": [
        {
          "output_type": "stream",
          "text": [
            "--2020-12-06 12:24:59--  https://storage.googleapis.com/cloud-tpu-checkpoints/efficientdet/coco/efficientdet-d7.tar.gz\n",
            "Resolving storage.googleapis.com (storage.googleapis.com)... 108.177.127.128, 108.177.119.128, 108.177.126.128, ...\n",
            "Connecting to storage.googleapis.com (storage.googleapis.com)|108.177.127.128|:443... connected.\n",
            "HTTP request sent, awaiting response... 200 OK\n",
            "Length: 413468440 (394M) [application/x-tar]\n",
            "Saving to: ‘efficientdet-d7.tar.gz’\n",
            "\n",
            "efficientdet-d7.tar 100%[===================>] 394.31M  56.2MB/s    in 7.0s    \n",
            "\n",
            "2020-12-06 12:25:07 (56.2 MB/s) - ‘efficientdet-d7.tar.gz’ saved [413468440/413468440]\n",
            "\n",
            "Use model in /content/automl/efficientdet/efficientdet-d7\n"
          ],
          "name": "stdout"
        }
      ]
    },
    {
      "cell_type": "markdown",
      "metadata": {
        "id": "6h2_QdGazeJy"
      },
      "source": [
        "## 0.2 Datasets download"
      ]
    },
    {
      "cell_type": "code",
      "metadata": {
        "id": "gV0wWy7_mO5s",
        "colab": {
          "base_uri": "https://localhost:8080/"
        },
        "outputId": "2bd2be87-e93c-4435-d791-2b09f2c0d822"
      },
      "source": [
        "#WiderFace datasets downwload\n",
        "import os\n",
        "def Wider_load(val=True,train=True,test=False):\n",
        "  os.makedirs('WIDER/', exist_ok=True)\n",
        "\n",
        "  if val:\n",
        "    #!gdown https://drive.google.com/uc?id=0B6eKvaijfFUDd3dIRmpvSk8tLUk\n",
        "    !gdown https://drive.google.com/uc?id=1-5A_pa_jDS7gk8mHVCBB7ApV5KN8jWDr -O WIDER/tempv.zip\n",
        "    !unzip -q WIDER/tempv.zip -d WIDER\n",
        "    !rm WIDER/tempv.zip  \n",
        "\n",
        "  if train:\n",
        "    ### WIDER Face Training Images\n",
        "    #!gdown https://drive.google.com/uc?id=0B6eKvaijfFUDQUUwd21EckhUbWs\n",
        "    !gdown https://drive.google.com/uc?id=1-1iJfmXKYvAx9uLdRDX5W6HHG_KZv1jH -O WIDER/temptr.zip\n",
        "    !unzip -q WIDER/temptr.zip -d WIDER\n",
        "    !rm WIDER/temptr.zip\n",
        "  \n",
        "  if test:\n",
        "    #!gdown https://drive.google.com/uc?id=0B6eKvaijfFUDbW4tdGpaYjgzZkU\n",
        "    !gdown https://drive.google.com/uc?id=1tTpUJZEQMKDVxKT6100V5FwDuGX_8sDi -O WIDER/tempt.zip\n",
        "    !unzip -q WIDER/tempt.zip -d WIDER\n",
        "    !rm WIDER/tempt.zip\n",
        "\n",
        "\n",
        "  ### Face annotations\n",
        "  !wget mmlab.ie.cuhk.edu.hk/projects/WIDERFace/support/bbx_annotation/wider_face_split.zip -O WIDER/tempa.zip\n",
        "  !unzip -q WIDER/tempa.zip -d WIDER\n",
        "  !rm WIDER/tempa.zip\n",
        "\n",
        "\n",
        "  ### Examples and formats of the submissions\n",
        "  #!wget mmlab.ie.cuhk.edu.hk/projects/WIDERFace/support/example/Submission_example.zip\n",
        "\n",
        "Wider_load(val=True,train=True,test=False)"
      ],
      "execution_count": 5,
      "outputs": [
        {
          "output_type": "stream",
          "text": [
            "Downloading...\n",
            "From: https://drive.google.com/uc?id=1-5A_pa_jDS7gk8mHVCBB7ApV5KN8jWDr\n",
            "To: /content/automl/efficientdet/WIDER/tempv.zip\n",
            "363MB [00:02, 150MB/s]\n",
            "Downloading...\n",
            "From: https://drive.google.com/uc?id=1-1iJfmXKYvAx9uLdRDX5W6HHG_KZv1jH\n",
            "To: /content/automl/efficientdet/WIDER/temptr.zip\n",
            "1.47GB [00:08, 170MB/s]\n",
            "--2020-12-06 12:26:09--  http://mmlab.ie.cuhk.edu.hk/projects/WIDERFace/support/bbx_annotation/wider_face_split.zip\n",
            "Resolving mmlab.ie.cuhk.edu.hk (mmlab.ie.cuhk.edu.hk)... 137.189.99.12\n",
            "Connecting to mmlab.ie.cuhk.edu.hk (mmlab.ie.cuhk.edu.hk)|137.189.99.12|:80... connected.\n",
            "HTTP request sent, awaiting response... 200 OK\n",
            "Length: 3591642 (3.4M) [application/zip]\n",
            "Saving to: ‘WIDER/tempa.zip’\n",
            "\n",
            "WIDER/tempa.zip     100%[===================>]   3.42M  1.43MB/s    in 2.4s    \n",
            "\n",
            "2020-12-06 12:26:13 (1.43 MB/s) - ‘WIDER/tempa.zip’ saved [3591642/3591642]\n",
            "\n"
          ],
          "name": "stdout"
        }
      ]
    },
    {
      "cell_type": "code",
      "metadata": {
        "id": "I8weY1WwfPMZ",
        "colab": {
          "base_uri": "https://localhost:8080/"
        },
        "outputId": "82ec183b-e581-400b-b09a-6ed1426b12fb"
      },
      "source": [
        "#Faces_DD dataset download  - hi-res\n",
        "import json\n",
        "!gdown 'https://drive.google.com/uc?export=download&id=1XwVm-2EMFdy9Zq39pKFr5UoSJvgTOm-7' \n",
        "!unzip -oq Faces_DD.zip\n",
        "!rm Faces_DD.zip\n",
        "!gdown 'https://drive.google.com/uc?export=download&id=1gIIUK518Ft9zi3VDVQZLRVozI-Hkpgt2' -O Annotations.json\n"
      ],
      "execution_count": 6,
      "outputs": [
        {
          "output_type": "stream",
          "text": [
            "Downloading...\n",
            "From: https://drive.google.com/uc?export=download&id=1XwVm-2EMFdy9Zq39pKFr5UoSJvgTOm-7\n",
            "To: /content/automl/efficientdet/Faces_DD.zip\n",
            "2.37GB [00:24, 97.3MB/s]\n",
            "Downloading...\n",
            "From: https://drive.google.com/uc?export=download&id=1gIIUK518Ft9zi3VDVQZLRVozI-Hkpgt2\n",
            "To: /content/automl/efficientdet/Annotations.json\n",
            "100% 336k/336k [00:00<00:00, 49.1MB/s]\n"
          ],
          "name": "stdout"
        }
      ]
    },
    {
      "cell_type": "markdown",
      "metadata": {
        "id": "t6aiAixVPERo"
      },
      "source": [
        "# 1. Training EfficientDet on WIDER FACE.\n",
        "\n",
        "\n"
      ]
    },
    {
      "cell_type": "markdown",
      "metadata": {
        "id": "r2mNo0dFzv0d"
      },
      "source": [
        "## 1.1 Data preparation"
      ]
    },
    {
      "cell_type": "code",
      "metadata": {
        "id": "dzS3ycPKPERt",
        "colab": {
          "base_uri": "https://localhost:8080/"
        },
        "outputId": "03047837-b64a-4c14-9da2-b67909ff8ff8"
      },
      "source": [
        "!mkdir tfrecord\n",
        "!PYTHONPATH=\".:$PYTHONPATH\"  python dataset/create_wider_tfrecord.py  \\\n",
        "  --data_dir=''   --output_path=tfrecord/wider"
      ],
      "execution_count": 7,
      "outputs": [
        {
          "output_type": "stream",
          "text": [
            "2020-12-06 12:27:44.409770: I tensorflow/stream_executor/platform/default/dso_loader.cc:48] Successfully opened dynamic library libcudart.so.10.1\n",
            "I1206 12:27:45.885562 139707544348544 create_wider_tfrecord.py:209] Writing to output directory: tfrecord\n",
            "train 12880\n",
            "I1206 12:27:47.688786 139707544348544 create_wider_tfrecord.py:234] Reading from WIDER train dataset.\n",
            "I1206 12:27:47.689610 139707544348544 create_wider_tfrecord.py:239] On image 0 of 12880\n",
            "I1206 12:27:48.896669 139707544348544 create_wider_tfrecord.py:239] On image 1000 of 12880\n",
            "I1206 12:27:50.023313 139707544348544 create_wider_tfrecord.py:239] On image 2000 of 12880\n",
            "I1206 12:27:51.098412 139707544348544 create_wider_tfrecord.py:239] On image 3000 of 12880\n",
            "I1206 12:27:52.410887 139707544348544 create_wider_tfrecord.py:239] On image 4000 of 12880\n",
            "I1206 12:27:53.512918 139707544348544 create_wider_tfrecord.py:239] On image 5000 of 12880\n",
            "I1206 12:27:54.500036 139707544348544 create_wider_tfrecord.py:239] On image 6000 of 12880\n",
            "I1206 12:27:55.582908 139707544348544 create_wider_tfrecord.py:239] On image 7000 of 12880\n",
            "I1206 12:27:56.585603 139707544348544 create_wider_tfrecord.py:239] On image 8000 of 12880\n",
            "I1206 12:27:57.542176 139707544348544 create_wider_tfrecord.py:239] On image 9000 of 12880\n",
            "I1206 12:27:58.567833 139707544348544 create_wider_tfrecord.py:239] On image 10000 of 12880\n",
            "I1206 12:27:59.791981 139707544348544 create_wider_tfrecord.py:239] On image 11000 of 12880\n",
            "I1206 12:28:00.734581 139707544348544 create_wider_tfrecord.py:239] On image 12000 of 12880\n",
            "val 3226\n",
            "I1206 12:28:11.207348 139707544348544 create_wider_tfrecord.py:234] Reading from WIDER val dataset.\n",
            "I1206 12:28:11.207548 139707544348544 create_wider_tfrecord.py:239] On image 0 of 3226\n",
            "I1206 12:28:12.325733 139707544348544 create_wider_tfrecord.py:239] On image 1000 of 3226\n",
            "I1206 12:28:13.362952 139707544348544 create_wider_tfrecord.py:239] On image 2000 of 3226\n",
            "I1206 12:28:14.405422 139707544348544 create_wider_tfrecord.py:239] On image 3000 of 3226\n"
          ],
          "name": "stdout"
        }
      ]
    },
    {
      "cell_type": "code",
      "metadata": {
        "id": "L0WKd7H-PER2",
        "colab": {
          "base_uri": "https://localhost:8080/"
        },
        "outputId": "d48b5872-e47c-40a4-ba52-fe11e5c7f0fe"
      },
      "source": [
        "# WiderFace has 12880 train images with 40 shards epoch, here we use a single shard\n",
        "# for demo, but users should use all shards pascal-*-of-00100.tfrecord.\n",
        "file_pattern = 'wider_train-*-of-00040.tfrecord'  # @param\n",
        "file_pattern_v = 'wider_val-*-of-00040.tfrecord'  # @param\n",
        "images_per_epoch = 322 * len(tf.io.gfile.glob('tfrecord/' + file_pattern))\n",
        "images_per_epoch = images_per_epoch // 8*8  # round to 8.\n",
        "print('images_per_epoch = {}'.format(images_per_epoch))"
      ],
      "execution_count": 8,
      "outputs": [
        {
          "output_type": "stream",
          "text": [
            "images_per_epoch = 12880\n"
          ],
          "name": "stdout"
        }
      ]
    },
    {
      "cell_type": "code",
      "metadata": {
        "id": "VRNaEvZdRo7i",
        "colab": {
          "base_uri": "https://localhost:8080/"
        },
        "outputId": "140df6da-465c-4751-fe19-13e5bb13ccc8"
      },
      "source": [
        "# OUTPUT_DIR on gdrive (Google Drive) or tmp\n",
        "\n",
        "output='gdrive' # @param gdrive for google drive\n",
        "\n",
        "if output == 'gdrive':\n",
        "  from google.colab import drive\n",
        "  drive.mount('/content/drive')\n",
        "\n",
        "  OUTPUT_DIR = os.path.join(\"/content/drive/My Drive/\", \"tmp\")\n",
        "  os.makedirs(OUTPUT_DIR, exist_ok=True)\n",
        "else:\n",
        "  OUTPUT_DIR = output \n"
      ],
      "execution_count": 9,
      "outputs": [
        {
          "output_type": "stream",
          "text": [
            "Drive already mounted at /content/drive; to attempt to forcibly remount, call drive.mount(\"/content/drive\", force_remount=True).\n"
          ],
          "name": "stdout"
        }
      ]
    },
    {
      "cell_type": "markdown",
      "metadata": {
        "id": "j6rRBB7Iz5dL"
      },
      "source": [
        "## 1.2 Training"
      ]
    },
    {
      "cell_type": "code",
      "metadata": {
        "id": "1OtZrjqdPER4"
      },
      "source": [
        "# generating train tfrecord is large, so we skip the execution here.\n",
        "# 2h per epoch on TESLA V100\n",
        "import os\n",
        "\n",
        "if MODEL not in os.listdir():\n",
        "  !wget https://storage.googleapis.com/cloud-tpu-checkpoints/efficientdet/coco/{MODEL}.tar.gz\n",
        "  !tar xf {MODEL}.tar.gz\n",
        "\n",
        "os.makedirs(OUTPUT_DIR+'/model_dir/', exist_ok=True)\n",
        "\n",
        "train_batch_size=2    # @param\n",
        "num_epochs=25         # @param\n",
        "\n",
        "# key option: use --ckpt rather than --backbone_ckpt.\n",
        "!python main.py --mode=train_and_eval \\\n",
        "    --training_file_pattern=tfrecord/{file_pattern} \\\n",
        "    --validation_file_pattern=tfrecord/{file_pattern_v} \\\n",
        "    --model_name={MODEL} --ckpt={MODEL} \\\n",
        "    --model_dir='{OUTPUT_DIR}/model_dir/{MODEL}-finetune' \\\n",
        "    --train_batch_size={train_batch_size} \\\n",
        "    --eval_batch_size=2  --eval_samples=3224 \\\n",
        "    --num_epochs={num_epochs} \\\n",
        "    --num_examples_per_epoch={images_per_epoch} \\\n",
        "    --save_checkpoints_steps=3220 \\\n",
        "    --iterations_per_loop=400 \\\n",
        "    --hparams=\"num_classes=2,moving_average_decay=0, \\\n",
        "                mixed_precision=false, \\\n",
        "                max_instances_per_image=2000, \\\n",
        "                grad_checkpoint=True, \\\n",
        "                first_lr_drop_epoch=15.0, \\\n",
        "                second_lr_drop_epoch=30.0\""
      ],
      "execution_count": null,
      "outputs": []
    },
    {
      "cell_type": "markdown",
      "metadata": {
        "id": "kCW0peYxUy9F"
      },
      "source": [
        "Results after 1. epoch\n",
        "\n",
        "```\n",
        " Average Precision  (AP) @[ IoU=0.50:0.95 | area=   all | maxDets=100 ] = 0.316\n",
        " Average Precision  (AP) @[ IoU=0.50      | area=   all | maxDets=100 ] = 0.572\n",
        " Average Precision  (AP) @[ IoU=0.75      | area=   all | maxDets=100 ] = 0.324\n",
        " Average Precision  (AP) @[ IoU=0.50:0.95 | area= small | maxDets=100 ] = 0.191\n",
        " Average Precision  (AP) @[ IoU=0.50:0.95 | area=medium | maxDets=100 ] = 0.604\n",
        " Average Precision  (AP) @[ IoU=0.50:0.95 | area= large | maxDets=100 ] = 0.676\n",
        " Average Recall     (AR) @[ IoU=0.50:0.95 | area=   all | maxDets=  1 ] = 0.057\n",
        " Average Recall     (AR) @[ IoU=0.50:0.95 | area=   all | maxDets= 10 ] = 0.217\n",
        " Average Recall     (AR) @[ IoU=0.50:0.95 | area=   all | maxDets=100 ] = 0.370\n",
        " Average Recall     (AR) @[ IoU=0.50:0.95 | area= small | maxDets=100 ] = 0.246\n",
        " Average Recall     (AR) @[ IoU=0.50:0.95 | area=medium | maxDets=100 ] = 0.681\n",
        " Average Recall     (AR) @[ IoU=0.50:0.95 | area= large | maxDets=100 ] = 0.761\n",
        "```"
      ]
    },
    {
      "cell_type": "markdown",
      "metadata": {
        "id": "s_9TjanSh5uV"
      },
      "source": [
        "Results after 2. epoch\n",
        "\n",
        "```\n",
        " Average Precision  (AP) @[ IoU=0.50:0.95 | area=   all | maxDets=100 ] = 0.335\n",
        " Average Precision  (AP) @[ IoU=0.50      | area=   all | maxDets=100 ] = 0.603\n",
        " Average Precision  (AP) @[ IoU=0.75      | area=   all | maxDets=100 ] = 0.341\n",
        " Average Precision  (AP) @[ IoU=0.50:0.95 | area= small | maxDets=100 ] = 0.209\n",
        " Average Precision  (AP) @[ IoU=0.50:0.95 | area=medium | maxDets=100 ] = 0.619\n",
        " Average Precision  (AP) @[ IoU=0.50:0.95 | area= large | maxDets=100 ] = 0.696\n",
        " Average Recall     (AR) @[ IoU=0.50:0.95 | area=   all | maxDets=  1 ] = 0.059\n",
        " Average Recall     (AR) @[ IoU=0.50:0.95 | area=   all | maxDets= 10 ] = 0.223\n",
        " Average Recall     (AR) @[ IoU=0.50:0.95 | area=   all | maxDets=100 ] = 0.389\n",
        " Average Recall     (AR) @[ IoU=0.50:0.95 | area= small | maxDets=100 ] = 0.269\n",
        " Average Recall     (AR) @[ IoU=0.50:0.95 | area=medium | maxDets=100 ] = 0.689\n",
        " Average Recall     (AR) @[ IoU=0.50:0.95 | area= large | maxDets=100 ] = 0.767\n",
        "```\n"
      ]
    },
    {
      "cell_type": "markdown",
      "metadata": {
        "id": "f9Q_kmScKNwc"
      },
      "source": [
        "Results after 6. epoch\n",
        "\n",
        "```\n",
        " Average Precision  (AP) @[ IoU=0.50:0.95 | area=   all | maxDets=100 ] = 0.344\n",
        " Average Precision  (AP) @[ IoU=0.50      | area=   all | maxDets=100 ] = 0.622\n",
        " Average Precision  (AP) @[ IoU=0.75      | area=   all | maxDets=100 ] = 0.348\n",
        " Average Precision  (AP) @[ IoU=0.50:0.95 | area= small | maxDets=100 ] = 0.215\n",
        " Average Precision  (AP) @[ IoU=0.50:0.95 | area=medium | maxDets=100 ] = 0.632\n",
        " Average Precision  (AP) @[ IoU=0.50:0.95 | area= large | maxDets=100 ] = 0.710\n",
        " Average Recall     (AR) @[ IoU=0.50:0.95 | area=   all | maxDets=  1 ] = 0.059\n",
        " Average Recall     (AR) @[ IoU=0.50:0.95 | area=   all | maxDets= 10 ] = 0.226\n",
        " Average Recall     (AR) @[ IoU=0.50:0.95 | area=   all | maxDets=100 ] = 0.396\n",
        " Average Recall     (AR) @[ IoU=0.50:0.95 | area= small | maxDets=100 ] = 0.275\n",
        " Average Recall     (AR) @[ IoU=0.50:0.95 | area=medium | maxDets=100 ] = 0.700\n",
        " Average Recall     (AR) @[ IoU=0.50:0.95 | area= large | maxDets=100 ] = 0.779\n",
        "```\n"
      ]
    },
    {
      "cell_type": "markdown",
      "metadata": {
        "id": "gQTSN0Vklkt1"
      },
      "source": [
        "Results after 7. epoch\n",
        "\n",
        "```\n",
        " Average Precision  (AP) @[ IoU=0.50:0.95 | area=   all | maxDets=100 ] = 0.347\n",
        " Average Precision  (AP) @[ IoU=0.50      | area=   all | maxDets=100 ] = 0.622\n",
        " Average Precision  (AP) @[ IoU=0.75      | area=   all | maxDets=100 ] = 0.354\n",
        " Average Precision  (AP) @[ IoU=0.50:0.95 | area= small | maxDets=100 ] = 0.220\n",
        " Average Precision  (AP) @[ IoU=0.50:0.95 | area=medium | maxDets=100 ] = 0.634\n",
        " Average Precision  (AP) @[ IoU=0.50:0.95 | area= large | maxDets=100 ] = 0.706\n",
        " Average Recall     (AR) @[ IoU=0.50:0.95 | area=   all | maxDets=  1 ] = 0.059\n",
        " Average Recall     (AR) @[ IoU=0.50:0.95 | area=   all | maxDets= 10 ] = 0.228\n",
        " Average Recall     (AR) @[ IoU=0.50:0.95 | area=   all | maxDets=100 ] = 0.400\n",
        " Average Recall     (AR) @[ IoU=0.50:0.95 | area= small | maxDets=100 ] = 0.281\n",
        " Average Recall     (AR) @[ IoU=0.50:0.95 | area=medium | maxDets=100 ] = 0.698\n",
        " Average Recall     (AR) @[ IoU=0.50:0.95 | area= large | maxDets=100 ] = 0.781\n",
        "```\n"
      ]
    },
    {
      "cell_type": "markdown",
      "metadata": {
        "id": "C_-4pH9yv5Qt"
      },
      "source": [
        "Results after 13 epochs\n",
        "\n",
        "```\n",
        " Average Precision  (AP) @[ IoU=0.50:0.95 | area=   all | maxDets=100 ] = 0.367\n",
        " Average Precision  (AP) @[ IoU=0.50      | area=   all | maxDets=100 ] = 0.643\n",
        " Average Precision  (AP) @[ IoU=0.75      | area=   all | maxDets=100 ] = 0.377\n",
        " Average Precision  (AP) @[ IoU=0.50:0.95 | area= small | maxDets=100 ] = 0.243\n",
        " Average Precision  (AP) @[ IoU=0.50:0.95 | area=medium | maxDets=100 ] = 0.644\n",
        " Average Precision  (AP) @[ IoU=0.50:0.95 | area= large | maxDets=100 ] = 0.718\n",
        " Average Recall     (AR) @[ IoU=0.50:0.95 | area=   all | maxDets=  1 ] = 0.061\n",
        " Average Recall     (AR) @[ IoU=0.50:0.95 | area=   all | maxDets= 10 ] = 0.235\n",
        " Average Recall     (AR) @[ IoU=0.50:0.95 | area=   all | maxDets=100 ] = 0.419\n",
        " Average Recall     (AR) @[ IoU=0.50:0.95 | area= small | maxDets=100 ] = 0.302\n",
        " Average Recall     (AR) @[ IoU=0.50:0.95 | area=medium | maxDets=100 ] = 0.710\n",
        " Average Recall     (AR) @[ IoU=0.50:0.95 | area= large | maxDets=100 ] = 0.788\n",
        "```\n"
      ]
    },
    {
      "cell_type": "markdown",
      "metadata": {
        "id": "jjEU5p7PJL3y"
      },
      "source": [
        "Results after **22 epochs**\n",
        "\n",
        "```\n",
        "  Average Precision  (AP) @[ IoU=0.50:0.95 | area=   all | maxDets=100 ] = 0.369\n",
        " Average Precision  (AP) @[ IoU=0.50      | area=   all | maxDets=100 ] = 0.643\n",
        " Average Precision  (AP) @[ IoU=0.75      | area=   all | maxDets=100 ] = 0.383\n",
        " Average Precision  (AP) @[ IoU=0.50:0.95 | area= small | maxDets=100 ] = 0.245\n",
        " Average Precision  (AP) @[ IoU=0.50:0.95 | area=medium | maxDets=100 ] = 0.650\n",
        " Average Precision  (AP) @[ IoU=0.50:0.95 | area= large | maxDets=100 ] = 0.711\n",
        " Average Recall     (AR) @[ IoU=0.50:0.95 | area=   all | maxDets=  1 ] = 0.061\n",
        " Average Recall     (AR) @[ IoU=0.50:0.95 | area=   all | maxDets= 10 ] = 0.237\n",
        " Average Recall     (AR) @[ IoU=0.50:0.95 | area=   all | maxDets=100 ] = 0.421\n",
        " Average Recall     (AR) @[ IoU=0.50:0.95 | area= small | maxDets=100 ] = 0.306\n",
        " Average Recall     (AR) @[ IoU=0.50:0.95 | area=medium | maxDets=100 ] = 0.710\n",
        " Average Recall     (AR) @[ IoU=0.50:0.95 | area= large | maxDets=100 ] = 0.779\n",
        "```\n"
      ]
    },
    {
      "cell_type": "markdown",
      "metadata": {
        "id": "RW26DwfirQQN"
      },
      "source": [
        "# 2. COCO evaluation"
      ]
    },
    {
      "cell_type": "markdown",
      "metadata": {
        "id": "cfn_tRFOWKMO"
      },
      "source": [
        "## 2.1 COCO evaluation on validation set."
      ]
    },
    {
      "cell_type": "code",
      "metadata": {
        "colab": {
          "base_uri": "https://localhost:8080/"
        },
        "id": "bntLqyjtIKeu",
        "outputId": "7efa17f4-d78c-444c-e4e3-3c83ddb3305a"
      },
      "source": [
        "\n",
        "file_pattern_v = 'wider_val-*-of-00040.tfrecord'\n",
        "\n",
        "!python main.py --mode=eval \\\n",
        "    --validation_file_pattern=tfrecord/{file_pattern_v} \\\n",
        "    --model_name={MODEL} \\\n",
        "    --model_dir='{OUTPUT_DIR}/model_dir/{MODEL}-finetune/archive' \\\n",
        "    --ckpt={MODEL} \\\n",
        "    --eval_batch_size=8 --eval_samples=3224  \\\n",
        "    --hparams=\"num_classes=2,moving_average_decay=0,mixed_precision=true, max_instances_per_image=2000, grad_checkpoint=True\" #mixed_precision=true only for V100"
      ],
      "execution_count": null,
      "outputs": [
        {
          "output_type": "stream",
          "text": [
            "2020-12-06 12:28:28.164019: I tensorflow/stream_executor/platform/default/dso_loader.cc:48] Successfully opened dynamic library libcudart.so.10.1\n",
            "I1206 12:28:30.094228 139798610216832 main.py:230] {'name': 'efficientdet-d7', 'act_type': 'swish', 'image_size': (1536, 1536), 'target_size': None, 'input_rand_hflip': True, 'jitter_min': 0.1, 'jitter_max': 2.0, 'autoaugment_policy': None, 'use_augmix': False, 'grid_mask': False, 'augmix_params': [3, -1, 1], 'sample_image': None, 'num_classes': 2, 'seg_num_classes': 3, 'heads': ['object_detection'], 'skip_crowd_during_training': True, 'label_map': None, 'max_instances_per_image': 2000, 'regenerate_source_id': False, 'min_level': 3, 'max_level': 7, 'num_scales': 3, 'aspect_ratios': [1.0, 2.0, 0.5], 'anchor_scale': 5.0, 'is_training_bn': True, 'momentum': 0.9, 'optimizer': 'sgd', 'learning_rate': 0.08, 'lr_warmup_init': 0.008, 'lr_warmup_epoch': 1.0, 'first_lr_drop_epoch': 200.0, 'second_lr_drop_epoch': 250.0, 'poly_lr_power': 0.9, 'clip_gradients_norm': 10.0, 'num_epochs': 300, 'data_format': 'channels_last', 'label_smoothing': 0.0, 'alpha': 0.25, 'gamma': 1.5, 'delta': 0.1, 'box_loss_weight': 50.0, 'iou_loss_type': None, 'iou_loss_weight': 1.0, 'weight_decay': 4e-05, 'strategy': None, 'mixed_precision': True, 'model_optimizations': {}, 'box_class_repeats': 5, 'fpn_cell_repeats': 8, 'fpn_num_filters': 384, 'separable_conv': True, 'apply_bn_for_resampling': True, 'conv_after_downsample': False, 'conv_bn_act_pattern': False, 'drop_remainder': True, 'nms_configs': {'method': 'gaussian', 'iou_thresh': None, 'score_thresh': None, 'sigma': None, 'max_nms_inputs': 0, 'max_output_size': 100}, 'fpn_name': None, 'fpn_weight_method': 'sum', 'fpn_config': None, 'survival_prob': None, 'img_summary_steps': None, 'lr_decay_method': 'cosine', 'moving_average_decay': 0, 'ckpt_var_scope': None, 'skip_mismatch': True, 'backbone_name': 'efficientnet-b6', 'backbone_config': None, 'var_freeze_expr': None, 'use_keras_model': True, 'dataset_type': None, 'positives_momentum': None, 'grad_checkpoint': True, 'device': {'grad_ckpting': False, 'grad_ckpting_list': ['Add_', 'AddN'], 'nvgpu_logging': False}, 'model_name': 'efficientdet-d7', 'iterations_per_loop': 200, 'model_dir': '/content/drive/My Drive/tmp/model_dir/efficientdet-d7-finetune/archive', 'num_shards': 8, 'num_examples_per_epoch': 120000, 'backbone_ckpt': '', 'ckpt': 'efficientdet-d7', 'val_json_file': None, 'testdev_dir': None, 'profile': False, 'mode': 'eval'}\n",
            "INFO:tensorflow:Using config: {'_model_dir': '/content/drive/My Drive/tmp/model_dir/efficientdet-d7-finetune/archive', '_tf_random_seed': None, '_save_summary_steps': 100, '_save_checkpoints_steps': 200, '_save_checkpoints_secs': None, '_session_config': allow_soft_placement: true\n",
            ", '_keep_checkpoint_max': 5, '_keep_checkpoint_every_n_hours': 10000, '_log_step_count_steps': 200, '_train_distribute': None, '_device_fn': None, '_protocol': None, '_eval_distribute': None, '_experimental_distribute': None, '_experimental_max_worker_delay_secs': None, '_session_creation_timeout_secs': 7200, '_service': None, '_cluster_spec': ClusterSpec({}), '_task_type': 'worker', '_task_id': 0, '_global_id_in_cluster': 0, '_master': '', '_evaluation_master': '', '_is_chief': True, '_num_ps_replicas': 0, '_num_worker_replicas': 1}\n",
            "I1206 12:28:31.290657 139798610216832 estimator.py:191] Using config: {'_model_dir': '/content/drive/My Drive/tmp/model_dir/efficientdet-d7-finetune/archive', '_tf_random_seed': None, '_save_summary_steps': 100, '_save_checkpoints_steps': 200, '_save_checkpoints_secs': None, '_session_config': allow_soft_placement: true\n",
            ", '_keep_checkpoint_max': 5, '_keep_checkpoint_every_n_hours': 10000, '_log_step_count_steps': 200, '_train_distribute': None, '_device_fn': None, '_protocol': None, '_eval_distribute': None, '_experimental_distribute': None, '_experimental_max_worker_delay_secs': None, '_session_creation_timeout_secs': 7200, '_service': None, '_cluster_spec': ClusterSpec({}), '_task_type': 'worker', '_task_id': 0, '_global_id_in_cluster': 0, '_master': '', '_evaluation_master': '', '_is_chief': True, '_num_ps_replicas': 0, '_num_worker_replicas': 1}\n",
            "INFO:tensorflow:Using config: {'_model_dir': '/content/drive/My Drive/tmp/model_dir/efficientdet-d7-finetune/archive', '_tf_random_seed': None, '_save_summary_steps': 100, '_save_checkpoints_steps': 200, '_save_checkpoints_secs': None, '_session_config': allow_soft_placement: true\n",
            ", '_keep_checkpoint_max': 5, '_keep_checkpoint_every_n_hours': 10000, '_log_step_count_steps': 200, '_train_distribute': None, '_device_fn': None, '_protocol': None, '_eval_distribute': None, '_experimental_distribute': None, '_experimental_max_worker_delay_secs': None, '_session_creation_timeout_secs': 7200, '_service': None, '_cluster_spec': ClusterSpec({}), '_task_type': 'worker', '_task_id': 0, '_global_id_in_cluster': 0, '_master': '', '_evaluation_master': '', '_is_chief': True, '_num_ps_replicas': 0, '_num_worker_replicas': 1}\n",
            "I1206 12:28:31.291927 139798610216832 estimator.py:191] Using config: {'_model_dir': '/content/drive/My Drive/tmp/model_dir/efficientdet-d7-finetune/archive', '_tf_random_seed': None, '_save_summary_steps': 100, '_save_checkpoints_steps': 200, '_save_checkpoints_secs': None, '_session_config': allow_soft_placement: true\n",
            ", '_keep_checkpoint_max': 5, '_keep_checkpoint_every_n_hours': 10000, '_log_step_count_steps': 200, '_train_distribute': None, '_device_fn': None, '_protocol': None, '_eval_distribute': None, '_experimental_distribute': None, '_experimental_max_worker_delay_secs': None, '_session_creation_timeout_secs': 7200, '_service': None, '_cluster_spec': ClusterSpec({}), '_task_type': 'worker', '_task_id': 0, '_global_id_in_cluster': 0, '_master': '', '_evaluation_master': '', '_is_chief': True, '_num_ps_replicas': 0, '_num_worker_replicas': 1}\n",
            "INFO:tensorflow:Waiting for new checkpoint at /content/drive/My Drive/tmp/model_dir/efficientdet-d7-finetune/archive\n",
            "I1206 12:28:31.292304 139798610216832 checkpoint_utils.py:125] Waiting for new checkpoint at /content/drive/My Drive/tmp/model_dir/efficientdet-d7-finetune/archive\n",
            "INFO:tensorflow:Found new checkpoint at /content/drive/My Drive/tmp/model_dir/efficientdet-d7-finetune/archive/model.ckpt-141680\n",
            "I1206 12:28:31.727635 139798610216832 checkpoint_utils.py:134] Found new checkpoint at /content/drive/My Drive/tmp/model_dir/efficientdet-d7-finetune/archive/model.ckpt-141680\n",
            "I1206 12:28:31.727901 139798610216832 main.py:310] Starting to evaluate.\n",
            "2020-12-06 12:28:31.992885: I tensorflow/stream_executor/platform/default/dso_loader.cc:48] Successfully opened dynamic library libcuda.so.1\n",
            "2020-12-06 12:28:32.049437: I tensorflow/stream_executor/cuda/cuda_gpu_executor.cc:982] successful NUMA node read from SysFS had negative value (-1), but there must be at least one NUMA node, so returning NUMA node zero\n",
            "2020-12-06 12:28:32.050136: I tensorflow/core/common_runtime/gpu/gpu_device.cc:1716] Found device 0 with properties: \n",
            "pciBusID: 0000:00:04.0 name: Tesla V100-SXM2-16GB computeCapability: 7.0\n",
            "coreClock: 1.53GHz coreCount: 80 deviceMemorySize: 15.75GiB deviceMemoryBandwidth: 836.37GiB/s\n",
            "2020-12-06 12:28:32.050183: I tensorflow/stream_executor/platform/default/dso_loader.cc:48] Successfully opened dynamic library libcudart.so.10.1\n",
            "2020-12-06 12:28:32.298839: I tensorflow/stream_executor/platform/default/dso_loader.cc:48] Successfully opened dynamic library libcublas.so.10\n",
            "2020-12-06 12:28:32.425060: I tensorflow/stream_executor/platform/default/dso_loader.cc:48] Successfully opened dynamic library libcufft.so.10\n",
            "2020-12-06 12:28:32.447142: I tensorflow/stream_executor/platform/default/dso_loader.cc:48] Successfully opened dynamic library libcurand.so.10\n",
            "2020-12-06 12:28:32.669151: I tensorflow/stream_executor/platform/default/dso_loader.cc:48] Successfully opened dynamic library libcusolver.so.10\n",
            "2020-12-06 12:28:32.691342: I tensorflow/stream_executor/platform/default/dso_loader.cc:48] Successfully opened dynamic library libcusparse.so.10\n",
            "2020-12-06 12:28:33.107026: I tensorflow/stream_executor/platform/default/dso_loader.cc:48] Successfully opened dynamic library libcudnn.so.7\n",
            "2020-12-06 12:28:33.107222: I tensorflow/stream_executor/cuda/cuda_gpu_executor.cc:982] successful NUMA node read from SysFS had negative value (-1), but there must be at least one NUMA node, so returning NUMA node zero\n",
            "2020-12-06 12:28:33.108066: I tensorflow/stream_executor/cuda/cuda_gpu_executor.cc:982] successful NUMA node read from SysFS had negative value (-1), but there must be at least one NUMA node, so returning NUMA node zero\n",
            "2020-12-06 12:28:33.108676: I tensorflow/core/common_runtime/gpu/gpu_device.cc:1858] Adding visible gpu devices: 0\n",
            "INFO:tensorflow:Calling model_fn.\n",
            "I1206 12:28:33.581953 139798610216832 estimator.py:1162] Calling model_fn.\n",
            "I1206 12:28:33.582222 139798610216832 utils.py:586] use mixed precision policy name mixed_float16\n",
            "2020-12-06 12:28:33.582595: I tensorflow/stream_executor/cuda/cuda_gpu_executor.cc:982] successful NUMA node read from SysFS had negative value (-1), but there must be at least one NUMA node, so returning NUMA node zero\n",
            "INFO:tensorflow:Mixed precision compatibility check (mixed_float16): OK\n",
            "Your GPU will likely run quickly with dtype policy mixed_float16 as it has compute capability of at least 7.0. Your GPU: Tesla V100-SXM2-16GB, compute capability 7.0\n",
            "I1206 12:28:33.583458 139798610216832 device_compatibility_check.py:124] Mixed precision compatibility check (mixed_float16): OK\n",
            "Your GPU will likely run quickly with dtype policy mixed_float16 as it has compute capability of at least 7.0. Your GPU: Tesla V100-SXM2-16GB, compute capability 7.0\n",
            "I1206 12:28:33.591190 139798610216832 efficientnet_builder.py:215] global_params= GlobalParams(batch_norm_momentum=0.99, batch_norm_epsilon=0.001, dropout_rate=0.5, data_format='channels_last', num_classes=1000, width_coefficient=1.8, depth_coefficient=2.6, depth_divisor=8, min_depth=None, survival_prob=0.8, relu_fn=functools.partial(<function activation_fn at 0x7f2519d31c80>, act_type='swish'), batch_norm=<class 'utils.BatchNormalization'>, use_se=True, local_pooling=None, condconv_num_experts=None, clip_projection_output=False, blocks_args=['r1_k3_s11_e1_i32_o16_se0.25', 'r2_k3_s22_e6_i16_o24_se0.25', 'r2_k5_s22_e6_i24_o40_se0.25', 'r3_k3_s22_e6_i40_o80_se0.25', 'r3_k5_s11_e6_i80_o112_se0.25', 'r4_k5_s22_e6_i112_o192_se0.25', 'r1_k3_s11_e6_i192_o320_se0.25'], fix_head_stem=None, grad_checkpoint=True)\n",
            "I1206 12:28:34.430194 139798610216832 efficientdet_keras.py:724] fnode 0 : {'feat_level': 6, 'inputs_offsets': [3, 4]}\n",
            "I1206 12:28:34.431197 139798610216832 efficientdet_keras.py:724] fnode 1 : {'feat_level': 5, 'inputs_offsets': [2, 5]}\n",
            "I1206 12:28:34.432062 139798610216832 efficientdet_keras.py:724] fnode 2 : {'feat_level': 4, 'inputs_offsets': [1, 6]}\n",
            "I1206 12:28:34.432960 139798610216832 efficientdet_keras.py:724] fnode 3 : {'feat_level': 3, 'inputs_offsets': [0, 7]}\n",
            "I1206 12:28:34.433867 139798610216832 efficientdet_keras.py:724] fnode 4 : {'feat_level': 4, 'inputs_offsets': [1, 7, 8]}\n",
            "I1206 12:28:34.434727 139798610216832 efficientdet_keras.py:724] fnode 5 : {'feat_level': 5, 'inputs_offsets': [2, 6, 9]}\n",
            "I1206 12:28:34.435568 139798610216832 efficientdet_keras.py:724] fnode 6 : {'feat_level': 6, 'inputs_offsets': [3, 5, 10]}\n",
            "I1206 12:28:34.437172 139798610216832 efficientdet_keras.py:724] fnode 7 : {'feat_level': 7, 'inputs_offsets': [4, 11]}\n",
            "I1206 12:28:34.438479 139798610216832 efficientdet_keras.py:724] fnode 0 : {'feat_level': 6, 'inputs_offsets': [3, 4]}\n",
            "I1206 12:28:34.439310 139798610216832 efficientdet_keras.py:724] fnode 1 : {'feat_level': 5, 'inputs_offsets': [2, 5]}\n",
            "I1206 12:28:34.440148 139798610216832 efficientdet_keras.py:724] fnode 2 : {'feat_level': 4, 'inputs_offsets': [1, 6]}\n",
            "I1206 12:28:34.441055 139798610216832 efficientdet_keras.py:724] fnode 3 : {'feat_level': 3, 'inputs_offsets': [0, 7]}\n",
            "I1206 12:28:34.441940 139798610216832 efficientdet_keras.py:724] fnode 4 : {'feat_level': 4, 'inputs_offsets': [1, 7, 8]}\n",
            "I1206 12:28:34.442878 139798610216832 efficientdet_keras.py:724] fnode 5 : {'feat_level': 5, 'inputs_offsets': [2, 6, 9]}\n",
            "I1206 12:28:34.443720 139798610216832 efficientdet_keras.py:724] fnode 6 : {'feat_level': 6, 'inputs_offsets': [3, 5, 10]}\n",
            "I1206 12:28:34.444598 139798610216832 efficientdet_keras.py:724] fnode 7 : {'feat_level': 7, 'inputs_offsets': [4, 11]}\n",
            "I1206 12:28:34.445889 139798610216832 efficientdet_keras.py:724] fnode 0 : {'feat_level': 6, 'inputs_offsets': [3, 4]}\n",
            "I1206 12:28:34.446721 139798610216832 efficientdet_keras.py:724] fnode 1 : {'feat_level': 5, 'inputs_offsets': [2, 5]}\n",
            "I1206 12:28:34.447575 139798610216832 efficientdet_keras.py:724] fnode 2 : {'feat_level': 4, 'inputs_offsets': [1, 6]}\n",
            "I1206 12:28:34.448478 139798610216832 efficientdet_keras.py:724] fnode 3 : {'feat_level': 3, 'inputs_offsets': [0, 7]}\n",
            "I1206 12:28:34.449326 139798610216832 efficientdet_keras.py:724] fnode 4 : {'feat_level': 4, 'inputs_offsets': [1, 7, 8]}\n",
            "I1206 12:28:34.450181 139798610216832 efficientdet_keras.py:724] fnode 5 : {'feat_level': 5, 'inputs_offsets': [2, 6, 9]}\n",
            "I1206 12:28:34.451010 139798610216832 efficientdet_keras.py:724] fnode 6 : {'feat_level': 6, 'inputs_offsets': [3, 5, 10]}\n",
            "I1206 12:28:34.451870 139798610216832 efficientdet_keras.py:724] fnode 7 : {'feat_level': 7, 'inputs_offsets': [4, 11]}\n",
            "I1206 12:28:34.453218 139798610216832 efficientdet_keras.py:724] fnode 0 : {'feat_level': 6, 'inputs_offsets': [3, 4]}\n",
            "I1206 12:28:34.454060 139798610216832 efficientdet_keras.py:724] fnode 1 : {'feat_level': 5, 'inputs_offsets': [2, 5]}\n",
            "I1206 12:28:34.454894 139798610216832 efficientdet_keras.py:724] fnode 2 : {'feat_level': 4, 'inputs_offsets': [1, 6]}\n",
            "I1206 12:28:34.455722 139798610216832 efficientdet_keras.py:724] fnode 3 : {'feat_level': 3, 'inputs_offsets': [0, 7]}\n",
            "I1206 12:28:34.456568 139798610216832 efficientdet_keras.py:724] fnode 4 : {'feat_level': 4, 'inputs_offsets': [1, 7, 8]}\n",
            "I1206 12:28:34.457412 139798610216832 efficientdet_keras.py:724] fnode 5 : {'feat_level': 5, 'inputs_offsets': [2, 6, 9]}\n",
            "I1206 12:28:34.458246 139798610216832 efficientdet_keras.py:724] fnode 6 : {'feat_level': 6, 'inputs_offsets': [3, 5, 10]}\n",
            "I1206 12:28:34.459191 139798610216832 efficientdet_keras.py:724] fnode 7 : {'feat_level': 7, 'inputs_offsets': [4, 11]}\n",
            "I1206 12:28:34.460478 139798610216832 efficientdet_keras.py:724] fnode 0 : {'feat_level': 6, 'inputs_offsets': [3, 4]}\n",
            "I1206 12:28:34.461345 139798610216832 efficientdet_keras.py:724] fnode 1 : {'feat_level': 5, 'inputs_offsets': [2, 5]}\n",
            "I1206 12:28:34.462186 139798610216832 efficientdet_keras.py:724] fnode 2 : {'feat_level': 4, 'inputs_offsets': [1, 6]}\n",
            "I1206 12:28:34.463033 139798610216832 efficientdet_keras.py:724] fnode 3 : {'feat_level': 3, 'inputs_offsets': [0, 7]}\n",
            "I1206 12:28:34.463872 139798610216832 efficientdet_keras.py:724] fnode 4 : {'feat_level': 4, 'inputs_offsets': [1, 7, 8]}\n",
            "I1206 12:28:34.464796 139798610216832 efficientdet_keras.py:724] fnode 5 : {'feat_level': 5, 'inputs_offsets': [2, 6, 9]}\n",
            "I1206 12:28:34.465645 139798610216832 efficientdet_keras.py:724] fnode 6 : {'feat_level': 6, 'inputs_offsets': [3, 5, 10]}\n",
            "I1206 12:28:34.466493 139798610216832 efficientdet_keras.py:724] fnode 7 : {'feat_level': 7, 'inputs_offsets': [4, 11]}\n",
            "I1206 12:28:34.467765 139798610216832 efficientdet_keras.py:724] fnode 0 : {'feat_level': 6, 'inputs_offsets': [3, 4]}\n",
            "I1206 12:28:34.468595 139798610216832 efficientdet_keras.py:724] fnode 1 : {'feat_level': 5, 'inputs_offsets': [2, 5]}\n",
            "I1206 12:28:34.469439 139798610216832 efficientdet_keras.py:724] fnode 2 : {'feat_level': 4, 'inputs_offsets': [1, 6]}\n",
            "I1206 12:28:34.470384 139798610216832 efficientdet_keras.py:724] fnode 3 : {'feat_level': 3, 'inputs_offsets': [0, 7]}\n",
            "I1206 12:28:34.471233 139798610216832 efficientdet_keras.py:724] fnode 4 : {'feat_level': 4, 'inputs_offsets': [1, 7, 8]}\n",
            "I1206 12:28:34.472071 139798610216832 efficientdet_keras.py:724] fnode 5 : {'feat_level': 5, 'inputs_offsets': [2, 6, 9]}\n",
            "I1206 12:28:34.472937 139798610216832 efficientdet_keras.py:724] fnode 6 : {'feat_level': 6, 'inputs_offsets': [3, 5, 10]}\n",
            "I1206 12:28:34.473837 139798610216832 efficientdet_keras.py:724] fnode 7 : {'feat_level': 7, 'inputs_offsets': [4, 11]}\n",
            "I1206 12:28:34.475276 139798610216832 efficientdet_keras.py:724] fnode 0 : {'feat_level': 6, 'inputs_offsets': [3, 4]}\n",
            "I1206 12:28:34.476156 139798610216832 efficientdet_keras.py:724] fnode 1 : {'feat_level': 5, 'inputs_offsets': [2, 5]}\n",
            "I1206 12:28:34.476998 139798610216832 efficientdet_keras.py:724] fnode 2 : {'feat_level': 4, 'inputs_offsets': [1, 6]}\n",
            "I1206 12:28:34.477871 139798610216832 efficientdet_keras.py:724] fnode 3 : {'feat_level': 3, 'inputs_offsets': [0, 7]}\n",
            "I1206 12:28:34.478693 139798610216832 efficientdet_keras.py:724] fnode 4 : {'feat_level': 4, 'inputs_offsets': [1, 7, 8]}\n",
            "I1206 12:28:34.479517 139798610216832 efficientdet_keras.py:724] fnode 5 : {'feat_level': 5, 'inputs_offsets': [2, 6, 9]}\n",
            "I1206 12:28:34.480391 139798610216832 efficientdet_keras.py:724] fnode 6 : {'feat_level': 6, 'inputs_offsets': [3, 5, 10]}\n",
            "I1206 12:28:34.481326 139798610216832 efficientdet_keras.py:724] fnode 7 : {'feat_level': 7, 'inputs_offsets': [4, 11]}\n",
            "I1206 12:28:34.482618 139798610216832 efficientdet_keras.py:724] fnode 0 : {'feat_level': 6, 'inputs_offsets': [3, 4]}\n",
            "I1206 12:28:34.483476 139798610216832 efficientdet_keras.py:724] fnode 1 : {'feat_level': 5, 'inputs_offsets': [2, 5]}\n",
            "I1206 12:28:34.484315 139798610216832 efficientdet_keras.py:724] fnode 2 : {'feat_level': 4, 'inputs_offsets': [1, 6]}\n",
            "I1206 12:28:34.485152 139798610216832 efficientdet_keras.py:724] fnode 3 : {'feat_level': 3, 'inputs_offsets': [0, 7]}\n",
            "I1206 12:28:34.486015 139798610216832 efficientdet_keras.py:724] fnode 4 : {'feat_level': 4, 'inputs_offsets': [1, 7, 8]}\n",
            "I1206 12:28:34.486942 139798610216832 efficientdet_keras.py:724] fnode 5 : {'feat_level': 5, 'inputs_offsets': [2, 6, 9]}\n",
            "I1206 12:28:34.487804 139798610216832 efficientdet_keras.py:724] fnode 6 : {'feat_level': 6, 'inputs_offsets': [3, 5, 10]}\n",
            "I1206 12:28:34.488717 139798610216832 efficientdet_keras.py:724] fnode 7 : {'feat_level': 7, 'inputs_offsets': [4, 11]}\n",
            "I1206 12:28:34.624269 139798610216832 efficientnet_model.py:725] Built stem stem : (8, 768, 768, 56)\n",
            "I1206 12:28:34.624571 139798610216832 efficientnet_model.py:746] block_0 survival_prob: 1.0\n",
            "I1206 12:28:34.625100 139798610216832 efficientnet_model.py:374] Block blocks_0 input shape: (8, 768, 768, 56)\n",
            "I1206 12:28:34.648272 139798610216832 efficientnet_model.py:393] DWConv shape: (8, 768, 768, 56)\n",
            "I1206 12:28:34.672788 139798610216832 efficientnet_model.py:195] Built SE se : (8, 1, 1, 56)\n",
            "I1206 12:28:34.694742 139798610216832 efficientnet_model.py:414] Project shape: (8, 768, 768, 32)\n",
            "I1206 12:28:34.705596 139798610216832 efficientnet_model.py:746] block_1 survival_prob: 0.9955555555555555\n",
            "I1206 12:28:34.706205 139798610216832 efficientnet_model.py:374] Block blocks_1 input shape: (8, 768, 768, 32)\n",
            "I1206 12:28:34.730983 139798610216832 efficientnet_model.py:393] DWConv shape: (8, 768, 768, 32)\n",
            "I1206 12:28:34.755271 139798610216832 efficientnet_model.py:195] Built SE se : (8, 1, 1, 32)\n",
            "I1206 12:28:34.777060 139798610216832 efficientnet_model.py:414] Project shape: (8, 768, 768, 32)\n",
            "I1206 12:28:34.788496 139798610216832 efficientnet_model.py:746] block_2 survival_prob: 0.9911111111111112\n",
            "I1206 12:28:34.789099 139798610216832 efficientnet_model.py:374] Block blocks_2 input shape: (8, 768, 768, 32)\n",
            "I1206 12:28:34.812080 139798610216832 efficientnet_model.py:393] DWConv shape: (8, 768, 768, 32)\n",
            "I1206 12:28:34.836777 139798610216832 efficientnet_model.py:195] Built SE se : (8, 1, 1, 32)\n",
            "I1206 12:28:34.860419 139798610216832 efficientnet_model.py:414] Project shape: (8, 768, 768, 32)\n",
            "I1206 12:28:34.871899 139798610216832 efficientnet_model.py:746] block_3 survival_prob: 0.9866666666666667\n",
            "I1206 12:28:34.872531 139798610216832 efficientnet_model.py:374] Block blocks_3 input shape: (8, 768, 768, 32)\n",
            "I1206 12:28:34.894968 139798610216832 efficientnet_model.py:390] Expand shape: (8, 768, 768, 192)\n",
            "I1206 12:28:34.918740 139798610216832 efficientnet_model.py:393] DWConv shape: (8, 384, 384, 192)\n",
            "I1206 12:28:34.943185 139798610216832 efficientnet_model.py:195] Built SE se : (8, 1, 1, 192)\n",
            "I1206 12:28:34.965308 139798610216832 efficientnet_model.py:414] Project shape: (8, 384, 384, 40)\n",
            "I1206 12:28:34.980172 139798610216832 efficientnet_model.py:746] block_4 survival_prob: 0.9822222222222222\n",
            "I1206 12:28:34.980840 139798610216832 efficientnet_model.py:374] Block blocks_4 input shape: (8, 384, 384, 40)\n",
            "I1206 12:28:35.003420 139798610216832 efficientnet_model.py:390] Expand shape: (8, 384, 384, 240)\n",
            "I1206 12:28:35.026945 139798610216832 efficientnet_model.py:393] DWConv shape: (8, 384, 384, 240)\n",
            "I1206 12:28:35.051652 139798610216832 efficientnet_model.py:195] Built SE se : (8, 1, 1, 240)\n",
            "I1206 12:28:35.073971 139798610216832 efficientnet_model.py:414] Project shape: (8, 384, 384, 40)\n",
            "I1206 12:28:35.088425 139798610216832 efficientnet_model.py:746] block_5 survival_prob: 0.9777777777777777\n",
            "I1206 12:28:35.089150 139798610216832 efficientnet_model.py:374] Block blocks_5 input shape: (8, 384, 384, 40)\n",
            "I1206 12:28:35.111962 139798610216832 efficientnet_model.py:390] Expand shape: (8, 384, 384, 240)\n",
            "I1206 12:28:35.137301 139798610216832 efficientnet_model.py:393] DWConv shape: (8, 384, 384, 240)\n",
            "I1206 12:28:35.162025 139798610216832 efficientnet_model.py:195] Built SE se : (8, 1, 1, 240)\n",
            "I1206 12:28:35.184044 139798610216832 efficientnet_model.py:414] Project shape: (8, 384, 384, 40)\n",
            "I1206 12:28:35.199324 139798610216832 efficientnet_model.py:746] block_6 survival_prob: 0.9733333333333334\n",
            "I1206 12:28:35.200212 139798610216832 efficientnet_model.py:374] Block blocks_6 input shape: (8, 384, 384, 40)\n",
            "I1206 12:28:35.225242 139798610216832 efficientnet_model.py:390] Expand shape: (8, 384, 384, 240)\n",
            "I1206 12:28:35.249699 139798610216832 efficientnet_model.py:393] DWConv shape: (8, 384, 384, 240)\n",
            "I1206 12:28:35.274530 139798610216832 efficientnet_model.py:195] Built SE se : (8, 1, 1, 240)\n",
            "I1206 12:28:35.296627 139798610216832 efficientnet_model.py:414] Project shape: (8, 384, 384, 40)\n",
            "I1206 12:28:35.311334 139798610216832 efficientnet_model.py:746] block_7 survival_prob: 0.9688888888888889\n",
            "I1206 12:28:35.312103 139798610216832 efficientnet_model.py:374] Block blocks_7 input shape: (8, 384, 384, 40)\n",
            "I1206 12:28:35.337788 139798610216832 efficientnet_model.py:390] Expand shape: (8, 384, 384, 240)\n",
            "I1206 12:28:35.363378 139798610216832 efficientnet_model.py:393] DWConv shape: (8, 384, 384, 240)\n",
            "I1206 12:28:35.389479 139798610216832 efficientnet_model.py:195] Built SE se : (8, 1, 1, 240)\n",
            "I1206 12:28:35.411689 139798610216832 efficientnet_model.py:414] Project shape: (8, 384, 384, 40)\n",
            "I1206 12:28:35.426632 139798610216832 efficientnet_model.py:746] block_8 survival_prob: 0.9644444444444444\n",
            "I1206 12:28:35.427425 139798610216832 efficientnet_model.py:374] Block blocks_8 input shape: (8, 384, 384, 40)\n",
            "I1206 12:28:35.450367 139798610216832 efficientnet_model.py:390] Expand shape: (8, 384, 384, 240)\n",
            "I1206 12:28:35.474510 139798610216832 efficientnet_model.py:393] DWConv shape: (8, 384, 384, 240)\n",
            "I1206 12:28:35.499419 139798610216832 efficientnet_model.py:195] Built SE se : (8, 1, 1, 240)\n",
            "I1206 12:28:35.524032 139798610216832 efficientnet_model.py:414] Project shape: (8, 384, 384, 40)\n",
            "I1206 12:28:35.538937 139798610216832 efficientnet_model.py:746] block_9 survival_prob: 0.96\n",
            "I1206 12:28:35.539694 139798610216832 efficientnet_model.py:374] Block blocks_9 input shape: (8, 384, 384, 40)\n",
            "I1206 12:28:35.562803 139798610216832 efficientnet_model.py:390] Expand shape: (8, 384, 384, 240)\n",
            "I1206 12:28:35.586171 139798610216832 efficientnet_model.py:393] DWConv shape: (8, 192, 192, 240)\n",
            "I1206 12:28:35.611256 139798610216832 efficientnet_model.py:195] Built SE se : (8, 1, 1, 240)\n",
            "I1206 12:28:35.633229 139798610216832 efficientnet_model.py:414] Project shape: (8, 192, 192, 72)\n",
            "I1206 12:28:35.648334 139798610216832 efficientnet_model.py:746] block_10 survival_prob: 0.9555555555555556\n",
            "I1206 12:28:35.649188 139798610216832 efficientnet_model.py:374] Block blocks_10 input shape: (8, 192, 192, 72)\n",
            "I1206 12:28:35.672111 139798610216832 efficientnet_model.py:390] Expand shape: (8, 192, 192, 432)\n",
            "I1206 12:28:35.695487 139798610216832 efficientnet_model.py:393] DWConv shape: (8, 192, 192, 432)\n",
            "I1206 12:28:35.720408 139798610216832 efficientnet_model.py:195] Built SE se : (8, 1, 1, 432)\n",
            "I1206 12:28:35.743172 139798610216832 efficientnet_model.py:414] Project shape: (8, 192, 192, 72)\n",
            "I1206 12:28:35.758244 139798610216832 efficientnet_model.py:746] block_11 survival_prob: 0.9511111111111111\n",
            "I1206 12:28:35.759093 139798610216832 efficientnet_model.py:374] Block blocks_11 input shape: (8, 192, 192, 72)\n",
            "I1206 12:28:35.782155 139798610216832 efficientnet_model.py:390] Expand shape: (8, 192, 192, 432)\n",
            "I1206 12:28:35.805657 139798610216832 efficientnet_model.py:393] DWConv shape: (8, 192, 192, 432)\n",
            "I1206 12:28:35.831497 139798610216832 efficientnet_model.py:195] Built SE se : (8, 1, 1, 432)\n",
            "I1206 12:28:35.853717 139798610216832 efficientnet_model.py:414] Project shape: (8, 192, 192, 72)\n",
            "I1206 12:28:35.870927 139798610216832 efficientnet_model.py:746] block_12 survival_prob: 0.9466666666666667\n",
            "I1206 12:28:35.871769 139798610216832 efficientnet_model.py:374] Block blocks_12 input shape: (8, 192, 192, 72)\n",
            "I1206 12:28:35.895168 139798610216832 efficientnet_model.py:390] Expand shape: (8, 192, 192, 432)\n",
            "I1206 12:28:35.919336 139798610216832 efficientnet_model.py:393] DWConv shape: (8, 192, 192, 432)\n",
            "I1206 12:28:35.945081 139798610216832 efficientnet_model.py:195] Built SE se : (8, 1, 1, 432)\n",
            "I1206 12:28:35.967085 139798610216832 efficientnet_model.py:414] Project shape: (8, 192, 192, 72)\n",
            "I1206 12:28:35.982760 139798610216832 efficientnet_model.py:746] block_13 survival_prob: 0.9422222222222222\n",
            "I1206 12:28:35.983677 139798610216832 efficientnet_model.py:374] Block blocks_13 input shape: (8, 192, 192, 72)\n",
            "I1206 12:28:36.007406 139798610216832 efficientnet_model.py:390] Expand shape: (8, 192, 192, 432)\n",
            "I1206 12:28:36.033144 139798610216832 efficientnet_model.py:393] DWConv shape: (8, 192, 192, 432)\n",
            "I1206 12:28:36.060127 139798610216832 efficientnet_model.py:195] Built SE se : (8, 1, 1, 432)\n",
            "I1206 12:28:36.082476 139798610216832 efficientnet_model.py:414] Project shape: (8, 192, 192, 72)\n",
            "I1206 12:28:36.098467 139798610216832 efficientnet_model.py:746] block_14 survival_prob: 0.9377777777777778\n",
            "I1206 12:28:36.099379 139798610216832 efficientnet_model.py:374] Block blocks_14 input shape: (8, 192, 192, 72)\n",
            "I1206 12:28:36.123702 139798610216832 efficientnet_model.py:390] Expand shape: (8, 192, 192, 432)\n",
            "I1206 12:28:36.147587 139798610216832 efficientnet_model.py:393] DWConv shape: (8, 192, 192, 432)\n",
            "I1206 12:28:36.172727 139798610216832 efficientnet_model.py:195] Built SE se : (8, 1, 1, 432)\n",
            "I1206 12:28:36.194839 139798610216832 efficientnet_model.py:414] Project shape: (8, 192, 192, 72)\n",
            "I1206 12:28:36.211325 139798610216832 efficientnet_model.py:746] block_15 survival_prob: 0.9333333333333333\n",
            "I1206 12:28:36.212269 139798610216832 efficientnet_model.py:374] Block blocks_15 input shape: (8, 192, 192, 72)\n",
            "I1206 12:28:36.247424 139798610216832 efficientnet_model.py:390] Expand shape: (8, 192, 192, 432)\n",
            "I1206 12:28:36.271044 139798610216832 efficientnet_model.py:393] DWConv shape: (8, 96, 96, 432)\n",
            "I1206 12:28:36.296024 139798610216832 efficientnet_model.py:195] Built SE se : (8, 1, 1, 432)\n",
            "I1206 12:28:36.317394 139798610216832 efficientnet_model.py:414] Project shape: (8, 96, 96, 144)\n",
            "I1206 12:28:36.333642 139798610216832 efficientnet_model.py:746] block_16 survival_prob: 0.9288888888888889\n",
            "I1206 12:28:36.334546 139798610216832 efficientnet_model.py:374] Block blocks_16 input shape: (8, 96, 96, 144)\n",
            "I1206 12:28:36.357907 139798610216832 efficientnet_model.py:390] Expand shape: (8, 96, 96, 864)\n",
            "I1206 12:28:36.384095 139798610216832 efficientnet_model.py:393] DWConv shape: (8, 96, 96, 864)\n",
            "I1206 12:28:36.410354 139798610216832 efficientnet_model.py:195] Built SE se : (8, 1, 1, 864)\n",
            "I1206 12:28:36.434530 139798610216832 efficientnet_model.py:414] Project shape: (8, 96, 96, 144)\n",
            "I1206 12:28:36.451878 139798610216832 efficientnet_model.py:746] block_17 survival_prob: 0.9244444444444444\n",
            "I1206 12:28:36.452854 139798610216832 efficientnet_model.py:374] Block blocks_17 input shape: (8, 96, 96, 144)\n",
            "I1206 12:28:36.477147 139798610216832 efficientnet_model.py:390] Expand shape: (8, 96, 96, 864)\n",
            "I1206 12:28:36.500956 139798610216832 efficientnet_model.py:393] DWConv shape: (8, 96, 96, 864)\n",
            "I1206 12:28:36.526123 139798610216832 efficientnet_model.py:195] Built SE se : (8, 1, 1, 864)\n",
            "I1206 12:28:36.548091 139798610216832 efficientnet_model.py:414] Project shape: (8, 96, 96, 144)\n",
            "I1206 12:28:36.564640 139798610216832 efficientnet_model.py:746] block_18 survival_prob: 0.92\n",
            "I1206 12:28:36.565649 139798610216832 efficientnet_model.py:374] Block blocks_18 input shape: (8, 96, 96, 144)\n",
            "I1206 12:28:36.589325 139798610216832 efficientnet_model.py:390] Expand shape: (8, 96, 96, 864)\n",
            "I1206 12:28:36.613256 139798610216832 efficientnet_model.py:393] DWConv shape: (8, 96, 96, 864)\n",
            "I1206 12:28:36.639236 139798610216832 efficientnet_model.py:195] Built SE se : (8, 1, 1, 864)\n",
            "I1206 12:28:36.661279 139798610216832 efficientnet_model.py:414] Project shape: (8, 96, 96, 144)\n",
            "I1206 12:28:36.678423 139798610216832 efficientnet_model.py:746] block_19 survival_prob: 0.9155555555555556\n",
            "I1206 12:28:36.679401 139798610216832 efficientnet_model.py:374] Block blocks_19 input shape: (8, 96, 96, 144)\n",
            "I1206 12:28:36.703065 139798610216832 efficientnet_model.py:390] Expand shape: (8, 96, 96, 864)\n",
            "I1206 12:28:36.727985 139798610216832 efficientnet_model.py:393] DWConv shape: (8, 96, 96, 864)\n",
            "I1206 12:28:36.753585 139798610216832 efficientnet_model.py:195] Built SE se : (8, 1, 1, 864)\n",
            "I1206 12:28:36.775499 139798610216832 efficientnet_model.py:414] Project shape: (8, 96, 96, 144)\n",
            "I1206 12:28:36.792188 139798610216832 efficientnet_model.py:746] block_20 survival_prob: 0.9111111111111111\n",
            "I1206 12:28:36.793178 139798610216832 efficientnet_model.py:374] Block blocks_20 input shape: (8, 96, 96, 144)\n",
            "I1206 12:28:36.816631 139798610216832 efficientnet_model.py:390] Expand shape: (8, 96, 96, 864)\n",
            "I1206 12:28:36.840526 139798610216832 efficientnet_model.py:393] DWConv shape: (8, 96, 96, 864)\n",
            "I1206 12:28:36.866600 139798610216832 efficientnet_model.py:195] Built SE se : (8, 1, 1, 864)\n",
            "I1206 12:28:36.890708 139798610216832 efficientnet_model.py:414] Project shape: (8, 96, 96, 144)\n",
            "I1206 12:28:36.907789 139798610216832 efficientnet_model.py:746] block_21 survival_prob: 0.9066666666666667\n",
            "I1206 12:28:36.908908 139798610216832 efficientnet_model.py:374] Block blocks_21 input shape: (8, 96, 96, 144)\n",
            "I1206 12:28:36.933635 139798610216832 efficientnet_model.py:390] Expand shape: (8, 96, 96, 864)\n",
            "I1206 12:28:37.059025 139798610216832 efficientnet_model.py:393] DWConv shape: (8, 96, 96, 864)\n",
            "I1206 12:28:37.085721 139798610216832 efficientnet_model.py:195] Built SE se : (8, 1, 1, 864)\n",
            "I1206 12:28:37.108375 139798610216832 efficientnet_model.py:414] Project shape: (8, 96, 96, 144)\n",
            "I1206 12:28:37.125578 139798610216832 efficientnet_model.py:746] block_22 survival_prob: 0.9022222222222223\n",
            "I1206 12:28:37.126614 139798610216832 efficientnet_model.py:374] Block blocks_22 input shape: (8, 96, 96, 144)\n",
            "I1206 12:28:37.150937 139798610216832 efficientnet_model.py:390] Expand shape: (8, 96, 96, 864)\n",
            "I1206 12:28:37.175834 139798610216832 efficientnet_model.py:393] DWConv shape: (8, 96, 96, 864)\n",
            "I1206 12:28:37.202397 139798610216832 efficientnet_model.py:195] Built SE se : (8, 1, 1, 864)\n",
            "I1206 12:28:37.225920 139798610216832 efficientnet_model.py:414] Project shape: (8, 96, 96, 144)\n",
            "I1206 12:28:37.246164 139798610216832 efficientnet_model.py:746] block_23 survival_prob: 0.8977777777777778\n",
            "I1206 12:28:37.247320 139798610216832 efficientnet_model.py:374] Block blocks_23 input shape: (8, 96, 96, 144)\n",
            "I1206 12:28:37.272050 139798610216832 efficientnet_model.py:390] Expand shape: (8, 96, 96, 864)\n",
            "I1206 12:28:37.296692 139798610216832 efficientnet_model.py:393] DWConv shape: (8, 96, 96, 864)\n",
            "I1206 12:28:37.322679 139798610216832 efficientnet_model.py:195] Built SE se : (8, 1, 1, 864)\n",
            "I1206 12:28:37.345111 139798610216832 efficientnet_model.py:414] Project shape: (8, 96, 96, 200)\n",
            "I1206 12:28:37.362958 139798610216832 efficientnet_model.py:746] block_24 survival_prob: 0.8933333333333333\n",
            "I1206 12:28:37.364154 139798610216832 efficientnet_model.py:374] Block blocks_24 input shape: (8, 96, 96, 200)\n",
            "I1206 12:28:37.392935 139798610216832 efficientnet_model.py:390] Expand shape: (8, 96, 96, 1200)\n",
            "I1206 12:28:37.421617 139798610216832 efficientnet_model.py:393] DWConv shape: (8, 96, 96, 1200)\n",
            "I1206 12:28:37.449106 139798610216832 efficientnet_model.py:195] Built SE se : (8, 1, 1, 1200)\n",
            "I1206 12:28:37.471257 139798610216832 efficientnet_model.py:414] Project shape: (8, 96, 96, 200)\n",
            "I1206 12:28:37.488920 139798610216832 efficientnet_model.py:746] block_25 survival_prob: 0.888888888888889\n",
            "I1206 12:28:37.490072 139798610216832 efficientnet_model.py:374] Block blocks_25 input shape: (8, 96, 96, 200)\n",
            "I1206 12:28:37.518585 139798610216832 efficientnet_model.py:390] Expand shape: (8, 96, 96, 1200)\n",
            "I1206 12:28:37.548480 139798610216832 efficientnet_model.py:393] DWConv shape: (8, 96, 96, 1200)\n",
            "I1206 12:28:37.575607 139798610216832 efficientnet_model.py:195] Built SE se : (8, 1, 1, 1200)\n",
            "I1206 12:28:37.597898 139798610216832 efficientnet_model.py:414] Project shape: (8, 96, 96, 200)\n",
            "I1206 12:28:37.616297 139798610216832 efficientnet_model.py:746] block_26 survival_prob: 0.8844444444444445\n",
            "I1206 12:28:37.617662 139798610216832 efficientnet_model.py:374] Block blocks_26 input shape: (8, 96, 96, 200)\n",
            "I1206 12:28:37.647490 139798610216832 efficientnet_model.py:390] Expand shape: (8, 96, 96, 1200)\n",
            "I1206 12:28:37.677436 139798610216832 efficientnet_model.py:393] DWConv shape: (8, 96, 96, 1200)\n",
            "I1206 12:28:37.704913 139798610216832 efficientnet_model.py:195] Built SE se : (8, 1, 1, 1200)\n",
            "I1206 12:28:37.729017 139798610216832 efficientnet_model.py:414] Project shape: (8, 96, 96, 200)\n",
            "I1206 12:28:37.749420 139798610216832 efficientnet_model.py:746] block_27 survival_prob: 0.88\n",
            "I1206 12:28:37.750736 139798610216832 efficientnet_model.py:374] Block blocks_27 input shape: (8, 96, 96, 200)\n",
            "I1206 12:28:37.780061 139798610216832 efficientnet_model.py:390] Expand shape: (8, 96, 96, 1200)\n",
            "I1206 12:28:37.809628 139798610216832 efficientnet_model.py:393] DWConv shape: (8, 96, 96, 1200)\n",
            "I1206 12:28:37.838248 139798610216832 efficientnet_model.py:195] Built SE se : (8, 1, 1, 1200)\n",
            "I1206 12:28:37.860839 139798610216832 efficientnet_model.py:414] Project shape: (8, 96, 96, 200)\n",
            "I1206 12:28:37.879616 139798610216832 efficientnet_model.py:746] block_28 survival_prob: 0.8755555555555556\n",
            "I1206 12:28:37.880884 139798610216832 efficientnet_model.py:374] Block blocks_28 input shape: (8, 96, 96, 200)\n",
            "I1206 12:28:37.910917 139798610216832 efficientnet_model.py:390] Expand shape: (8, 96, 96, 1200)\n",
            "I1206 12:28:37.940366 139798610216832 efficientnet_model.py:393] DWConv shape: (8, 96, 96, 1200)\n",
            "I1206 12:28:37.967597 139798610216832 efficientnet_model.py:195] Built SE se : (8, 1, 1, 1200)\n",
            "I1206 12:28:37.990358 139798610216832 efficientnet_model.py:414] Project shape: (8, 96, 96, 200)\n",
            "I1206 12:28:38.009563 139798610216832 efficientnet_model.py:746] block_29 survival_prob: 0.8711111111111112\n",
            "I1206 12:28:38.010851 139798610216832 efficientnet_model.py:374] Block blocks_29 input shape: (8, 96, 96, 200)\n",
            "I1206 12:28:38.041196 139798610216832 efficientnet_model.py:390] Expand shape: (8, 96, 96, 1200)\n",
            "I1206 12:28:38.072689 139798610216832 efficientnet_model.py:393] DWConv shape: (8, 96, 96, 1200)\n",
            "I1206 12:28:38.099790 139798610216832 efficientnet_model.py:195] Built SE se : (8, 1, 1, 1200)\n",
            "I1206 12:28:38.121953 139798610216832 efficientnet_model.py:414] Project shape: (8, 96, 96, 200)\n",
            "I1206 12:28:38.140894 139798610216832 efficientnet_model.py:746] block_30 survival_prob: 0.8666666666666667\n",
            "I1206 12:28:38.142192 139798610216832 efficientnet_model.py:374] Block blocks_30 input shape: (8, 96, 96, 200)\n",
            "I1206 12:28:38.170482 139798610216832 efficientnet_model.py:390] Expand shape: (8, 96, 96, 1200)\n",
            "I1206 12:28:38.199916 139798610216832 efficientnet_model.py:393] DWConv shape: (8, 96, 96, 1200)\n",
            "I1206 12:28:38.227793 139798610216832 efficientnet_model.py:195] Built SE se : (8, 1, 1, 1200)\n",
            "I1206 12:28:38.251057 139798610216832 efficientnet_model.py:414] Project shape: (8, 96, 96, 200)\n",
            "I1206 12:28:38.269990 139798610216832 efficientnet_model.py:746] block_31 survival_prob: 0.8622222222222222\n",
            "I1206 12:28:38.271261 139798610216832 efficientnet_model.py:374] Block blocks_31 input shape: (8, 96, 96, 200)\n",
            "I1206 12:28:38.300589 139798610216832 efficientnet_model.py:390] Expand shape: (8, 96, 96, 1200)\n",
            "I1206 12:28:38.329896 139798610216832 efficientnet_model.py:393] DWConv shape: (8, 48, 48, 1200)\n",
            "I1206 12:28:38.359315 139798610216832 efficientnet_model.py:195] Built SE se : (8, 1, 1, 1200)\n",
            "I1206 12:28:38.381339 139798610216832 efficientnet_model.py:414] Project shape: (8, 48, 48, 344)\n",
            "I1206 12:28:38.400768 139798610216832 efficientnet_model.py:746] block_32 survival_prob: 0.8577777777777778\n",
            "I1206 12:28:38.402108 139798610216832 efficientnet_model.py:374] Block blocks_32 input shape: (8, 48, 48, 344)\n",
            "I1206 12:28:38.430624 139798610216832 efficientnet_model.py:390] Expand shape: (8, 48, 48, 2064)\n",
            "I1206 12:28:38.459628 139798610216832 efficientnet_model.py:393] DWConv shape: (8, 48, 48, 2064)\n",
            "I1206 12:28:38.486723 139798610216832 efficientnet_model.py:195] Built SE se : (8, 1, 1, 2064)\n",
            "I1206 12:28:38.511021 139798610216832 efficientnet_model.py:414] Project shape: (8, 48, 48, 344)\n",
            "I1206 12:28:38.533764 139798610216832 efficientnet_model.py:746] block_33 survival_prob: 0.8533333333333334\n",
            "I1206 12:28:38.535148 139798610216832 efficientnet_model.py:374] Block blocks_33 input shape: (8, 48, 48, 344)\n",
            "I1206 12:28:38.567288 139798610216832 efficientnet_model.py:390] Expand shape: (8, 48, 48, 2064)\n",
            "I1206 12:28:38.596419 139798610216832 efficientnet_model.py:393] DWConv shape: (8, 48, 48, 2064)\n",
            "I1206 12:28:38.625397 139798610216832 efficientnet_model.py:195] Built SE se : (8, 1, 1, 2064)\n",
            "I1206 12:28:38.648964 139798610216832 efficientnet_model.py:414] Project shape: (8, 48, 48, 344)\n",
            "I1206 12:28:38.669098 139798610216832 efficientnet_model.py:746] block_34 survival_prob: 0.8488888888888889\n",
            "I1206 12:28:38.670449 139798610216832 efficientnet_model.py:374] Block blocks_34 input shape: (8, 48, 48, 344)\n",
            "I1206 12:28:38.701994 139798610216832 efficientnet_model.py:390] Expand shape: (8, 48, 48, 2064)\n",
            "I1206 12:28:38.731030 139798610216832 efficientnet_model.py:393] DWConv shape: (8, 48, 48, 2064)\n",
            "I1206 12:28:38.758623 139798610216832 efficientnet_model.py:195] Built SE se : (8, 1, 1, 2064)\n",
            "I1206 12:28:38.780763 139798610216832 efficientnet_model.py:414] Project shape: (8, 48, 48, 344)\n",
            "I1206 12:28:38.800995 139798610216832 efficientnet_model.py:746] block_35 survival_prob: 0.8444444444444446\n",
            "I1206 12:28:38.802475 139798610216832 efficientnet_model.py:374] Block blocks_35 input shape: (8, 48, 48, 344)\n",
            "I1206 12:28:38.830992 139798610216832 efficientnet_model.py:390] Expand shape: (8, 48, 48, 2064)\n",
            "I1206 12:28:38.861510 139798610216832 efficientnet_model.py:393] DWConv shape: (8, 48, 48, 2064)\n",
            "I1206 12:28:38.888912 139798610216832 efficientnet_model.py:195] Built SE se : (8, 1, 1, 2064)\n",
            "I1206 12:28:38.912385 139798610216832 efficientnet_model.py:414] Project shape: (8, 48, 48, 344)\n",
            "I1206 12:28:38.932327 139798610216832 efficientnet_model.py:746] block_36 survival_prob: 0.8400000000000001\n",
            "I1206 12:28:38.933784 139798610216832 efficientnet_model.py:374] Block blocks_36 input shape: (8, 48, 48, 344)\n",
            "I1206 12:28:38.962173 139798610216832 efficientnet_model.py:390] Expand shape: (8, 48, 48, 2064)\n",
            "I1206 12:28:38.991894 139798610216832 efficientnet_model.py:393] DWConv shape: (8, 48, 48, 2064)\n",
            "I1206 12:28:39.020889 139798610216832 efficientnet_model.py:195] Built SE se : (8, 1, 1, 2064)\n",
            "I1206 12:28:39.043160 139798610216832 efficientnet_model.py:414] Project shape: (8, 48, 48, 344)\n",
            "I1206 12:28:39.064030 139798610216832 efficientnet_model.py:746] block_37 survival_prob: 0.8355555555555556\n",
            "I1206 12:28:39.065557 139798610216832 efficientnet_model.py:374] Block blocks_37 input shape: (8, 48, 48, 344)\n",
            "I1206 12:28:39.094484 139798610216832 efficientnet_model.py:390] Expand shape: (8, 48, 48, 2064)\n",
            "I1206 12:28:39.123797 139798610216832 efficientnet_model.py:393] DWConv shape: (8, 48, 48, 2064)\n",
            "I1206 12:28:39.151935 139798610216832 efficientnet_model.py:195] Built SE se : (8, 1, 1, 2064)\n",
            "I1206 12:28:39.174076 139798610216832 efficientnet_model.py:414] Project shape: (8, 48, 48, 344)\n",
            "I1206 12:28:39.194252 139798610216832 efficientnet_model.py:746] block_38 survival_prob: 0.8311111111111111\n",
            "I1206 12:28:39.195795 139798610216832 efficientnet_model.py:374] Block blocks_38 input shape: (8, 48, 48, 344)\n",
            "I1206 12:28:39.224803 139798610216832 efficientnet_model.py:390] Expand shape: (8, 48, 48, 2064)\n",
            "I1206 12:28:39.256559 139798610216832 efficientnet_model.py:393] DWConv shape: (8, 48, 48, 2064)\n",
            "I1206 12:28:39.284420 139798610216832 efficientnet_model.py:195] Built SE se : (8, 1, 1, 2064)\n",
            "I1206 12:28:39.307251 139798610216832 efficientnet_model.py:414] Project shape: (8, 48, 48, 344)\n",
            "I1206 12:28:39.328847 139798610216832 efficientnet_model.py:746] block_39 survival_prob: 0.8266666666666667\n",
            "I1206 12:28:39.330455 139798610216832 efficientnet_model.py:374] Block blocks_39 input shape: (8, 48, 48, 344)\n",
            "I1206 12:28:39.360589 139798610216832 efficientnet_model.py:390] Expand shape: (8, 48, 48, 2064)\n",
            "I1206 12:28:39.390030 139798610216832 efficientnet_model.py:393] DWConv shape: (8, 48, 48, 2064)\n",
            "I1206 12:28:39.418213 139798610216832 efficientnet_model.py:195] Built SE se : (8, 1, 1, 2064)\n",
            "I1206 12:28:39.440247 139798610216832 efficientnet_model.py:414] Project shape: (8, 48, 48, 344)\n",
            "I1206 12:28:39.463521 139798610216832 efficientnet_model.py:746] block_40 survival_prob: 0.8222222222222223\n",
            "I1206 12:28:39.465342 139798610216832 efficientnet_model.py:374] Block blocks_40 input shape: (8, 48, 48, 344)\n",
            "I1206 12:28:39.494647 139798610216832 efficientnet_model.py:390] Expand shape: (8, 48, 48, 2064)\n",
            "I1206 12:28:39.524204 139798610216832 efficientnet_model.py:393] DWConv shape: (8, 48, 48, 2064)\n",
            "I1206 12:28:39.552016 139798610216832 efficientnet_model.py:195] Built SE se : (8, 1, 1, 2064)\n",
            "I1206 12:28:39.574192 139798610216832 efficientnet_model.py:414] Project shape: (8, 48, 48, 344)\n",
            "I1206 12:28:39.594904 139798610216832 efficientnet_model.py:746] block_41 survival_prob: 0.8177777777777778\n",
            "I1206 12:28:39.596648 139798610216832 efficientnet_model.py:374] Block blocks_41 input shape: (8, 48, 48, 344)\n",
            "I1206 12:28:39.625699 139798610216832 efficientnet_model.py:390] Expand shape: (8, 48, 48, 2064)\n",
            "I1206 12:28:39.657028 139798610216832 efficientnet_model.py:393] DWConv shape: (8, 48, 48, 2064)\n",
            "I1206 12:28:39.686988 139798610216832 efficientnet_model.py:195] Built SE se : (8, 1, 1, 2064)\n",
            "I1206 12:28:39.710628 139798610216832 efficientnet_model.py:414] Project shape: (8, 48, 48, 344)\n",
            "I1206 12:28:39.734120 139798610216832 efficientnet_model.py:746] block_42 survival_prob: 0.8133333333333334\n",
            "I1206 12:28:39.735763 139798610216832 efficientnet_model.py:374] Block blocks_42 input shape: (8, 48, 48, 344)\n",
            "I1206 12:28:39.765259 139798610216832 efficientnet_model.py:390] Expand shape: (8, 48, 48, 2064)\n",
            "I1206 12:28:39.794914 139798610216832 efficientnet_model.py:393] DWConv shape: (8, 48, 48, 2064)\n",
            "I1206 12:28:39.823487 139798610216832 efficientnet_model.py:195] Built SE se : (8, 1, 1, 2064)\n",
            "I1206 12:28:39.846132 139798610216832 efficientnet_model.py:414] Project shape: (8, 48, 48, 576)\n",
            "I1206 12:28:39.871283 139798610216832 efficientnet_model.py:746] block_43 survival_prob: 0.808888888888889\n",
            "I1206 12:28:39.873144 139798610216832 efficientnet_model.py:374] Block blocks_43 input shape: (8, 48, 48, 576)\n",
            "I1206 12:28:39.905340 139798610216832 efficientnet_model.py:390] Expand shape: (8, 48, 48, 3456)\n",
            "I1206 12:28:39.937798 139798610216832 efficientnet_model.py:393] DWConv shape: (8, 48, 48, 3456)\n",
            "I1206 12:28:39.966012 139798610216832 efficientnet_model.py:195] Built SE se : (8, 1, 1, 3456)\n",
            "I1206 12:28:39.988222 139798610216832 efficientnet_model.py:414] Project shape: (8, 48, 48, 576)\n",
            "I1206 12:28:40.010665 139798610216832 efficientnet_model.py:746] block_44 survival_prob: 0.8044444444444445\n",
            "I1206 12:28:40.012354 139798610216832 efficientnet_model.py:374] Block blocks_44 input shape: (8, 48, 48, 576)\n",
            "I1206 12:28:40.041905 139798610216832 efficientnet_model.py:390] Expand shape: (8, 48, 48, 3456)\n",
            "I1206 12:28:40.073926 139798610216832 efficientnet_model.py:393] DWConv shape: (8, 48, 48, 3456)\n",
            "I1206 12:28:40.101928 139798610216832 efficientnet_model.py:195] Built SE se : (8, 1, 1, 3456)\n",
            "I1206 12:28:40.124120 139798610216832 efficientnet_model.py:414] Project shape: (8, 48, 48, 576)\n",
            "I1206 12:28:47.154117 139798610216832 utils.py:586] use mixed precision policy name float32\n",
            "I1206 12:28:47.157849 139798610216832 det_model_fn.py:76] LR schedule method: cosine\n",
            "I1206 12:28:47.660603 139798610216832 postprocess.py:85] use max_nms_inputs for pre-nms topk.\n",
            "I1206 12:28:47.860317 139798610216832 det_model_fn.py:520] Eval val with groudtruths None.\n",
            "INFO:tensorflow:Done calling model_fn.\n",
            "I1206 12:28:47.906141 139798610216832 estimator.py:1164] Done calling model_fn.\n",
            "INFO:tensorflow:Starting evaluation at 2020-12-06T12:28:47Z\n",
            "I1206 12:28:47.923991 139798610216832 evaluation.py:255] Starting evaluation at 2020-12-06T12:28:47Z\n",
            "INFO:tensorflow:Graph was finalized.\n",
            "I1206 12:28:49.911241 139798610216832 monitored_session.py:246] Graph was finalized.\n",
            "2020-12-06 12:28:49.911626: I tensorflow/core/platform/cpu_feature_guard.cc:142] This TensorFlow binary is optimized with oneAPI Deep Neural Network Library (oneDNN)to use the following CPU instructions in performance-critical operations:  AVX512F\n",
            "To enable them in other operations, rebuild TensorFlow with the appropriate compiler flags.\n",
            "2020-12-06 12:28:49.924987: I tensorflow/core/platform/profile_utils/cpu_utils.cc:104] CPU Frequency: 2000165000 Hz\n",
            "2020-12-06 12:28:49.925528: I tensorflow/compiler/xla/service/service.cc:168] XLA service 0x2a9d800 initialized for platform Host (this does not guarantee that XLA will be used). Devices:\n",
            "2020-12-06 12:28:49.925564: I tensorflow/compiler/xla/service/service.cc:176]   StreamExecutor device (0): Host, Default Version\n",
            "2020-12-06 12:28:50.057773: I tensorflow/stream_executor/cuda/cuda_gpu_executor.cc:982] successful NUMA node read from SysFS had negative value (-1), but there must be at least one NUMA node, so returning NUMA node zero\n",
            "2020-12-06 12:28:50.058704: I tensorflow/compiler/xla/service/service.cc:168] XLA service 0x2a9d640 initialized for platform CUDA (this does not guarantee that XLA will be used). Devices:\n",
            "2020-12-06 12:28:50.058743: I tensorflow/compiler/xla/service/service.cc:176]   StreamExecutor device (0): Tesla V100-SXM2-16GB, Compute Capability 7.0\n",
            "2020-12-06 12:28:50.059939: I tensorflow/stream_executor/cuda/cuda_gpu_executor.cc:982] successful NUMA node read from SysFS had negative value (-1), but there must be at least one NUMA node, so returning NUMA node zero\n",
            "2020-12-06 12:28:50.060558: I tensorflow/core/common_runtime/gpu/gpu_device.cc:1716] Found device 0 with properties: \n",
            "pciBusID: 0000:00:04.0 name: Tesla V100-SXM2-16GB computeCapability: 7.0\n",
            "coreClock: 1.53GHz coreCount: 80 deviceMemorySize: 15.75GiB deviceMemoryBandwidth: 836.37GiB/s\n",
            "2020-12-06 12:28:50.060606: I tensorflow/stream_executor/platform/default/dso_loader.cc:48] Successfully opened dynamic library libcudart.so.10.1\n",
            "2020-12-06 12:28:50.060662: I tensorflow/stream_executor/platform/default/dso_loader.cc:48] Successfully opened dynamic library libcublas.so.10\n",
            "2020-12-06 12:28:50.060684: I tensorflow/stream_executor/platform/default/dso_loader.cc:48] Successfully opened dynamic library libcufft.so.10\n",
            "2020-12-06 12:28:50.060707: I tensorflow/stream_executor/platform/default/dso_loader.cc:48] Successfully opened dynamic library libcurand.so.10\n",
            "2020-12-06 12:28:50.060727: I tensorflow/stream_executor/platform/default/dso_loader.cc:48] Successfully opened dynamic library libcusolver.so.10\n",
            "2020-12-06 12:28:50.060747: I tensorflow/stream_executor/platform/default/dso_loader.cc:48] Successfully opened dynamic library libcusparse.so.10\n",
            "2020-12-06 12:28:50.060770: I tensorflow/stream_executor/platform/default/dso_loader.cc:48] Successfully opened dynamic library libcudnn.so.7\n",
            "2020-12-06 12:28:50.060868: I tensorflow/stream_executor/cuda/cuda_gpu_executor.cc:982] successful NUMA node read from SysFS had negative value (-1), but there must be at least one NUMA node, so returning NUMA node zero\n",
            "2020-12-06 12:28:50.061512: I tensorflow/stream_executor/cuda/cuda_gpu_executor.cc:982] successful NUMA node read from SysFS had negative value (-1), but there must be at least one NUMA node, so returning NUMA node zero\n",
            "2020-12-06 12:28:50.062114: I tensorflow/core/common_runtime/gpu/gpu_device.cc:1858] Adding visible gpu devices: 0\n",
            "2020-12-06 12:28:50.065005: I tensorflow/stream_executor/platform/default/dso_loader.cc:48] Successfully opened dynamic library libcudart.so.10.1\n",
            "2020-12-06 12:28:52.032373: I tensorflow/core/common_runtime/gpu/gpu_device.cc:1257] Device interconnect StreamExecutor with strength 1 edge matrix:\n",
            "2020-12-06 12:28:52.032434: I tensorflow/core/common_runtime/gpu/gpu_device.cc:1263]      0 \n",
            "2020-12-06 12:28:52.032451: I tensorflow/core/common_runtime/gpu/gpu_device.cc:1276] 0:   N \n",
            "2020-12-06 12:28:52.032668: I tensorflow/stream_executor/cuda/cuda_gpu_executor.cc:982] successful NUMA node read from SysFS had negative value (-1), but there must be at least one NUMA node, so returning NUMA node zero\n",
            "2020-12-06 12:28:52.033394: I tensorflow/stream_executor/cuda/cuda_gpu_executor.cc:982] successful NUMA node read from SysFS had negative value (-1), but there must be at least one NUMA node, so returning NUMA node zero\n",
            "2020-12-06 12:28:52.034017: W tensorflow/core/common_runtime/gpu/gpu_bfc_allocator.cc:39] Overriding allow_growth setting because the TF_FORCE_GPU_ALLOW_GROWTH environment variable is set. Original config value was 0.\n",
            "2020-12-06 12:28:52.034064: I tensorflow/core/common_runtime/gpu/gpu_device.cc:1402] Created TensorFlow device (/job:localhost/replica:0/task:0/device:GPU:0 with 14756 MB memory) -> physical GPU (device: 0, name: Tesla V100-SXM2-16GB, pci bus id: 0000:00:04.0, compute capability: 7.0)\n",
            "INFO:tensorflow:Restoring parameters from /content/drive/My Drive/tmp/model_dir/efficientdet-d7-finetune/archive/model.ckpt-141680\n",
            "I1206 12:28:52.041776 139798610216832 saver.py:1293] Restoring parameters from /content/drive/My Drive/tmp/model_dir/efficientdet-d7-finetune/archive/model.ckpt-141680\n",
            "INFO:tensorflow:Running local_init_op.\n",
            "I1206 12:28:58.316395 139798610216832 session_manager.py:505] Running local_init_op.\n",
            "INFO:tensorflow:Done running local_init_op.\n",
            "I1206 12:28:58.454289 139798610216832 session_manager.py:508] Done running local_init_op.\n",
            "2020-12-06 12:29:04.619169: W tensorflow/core/framework/cpu_allocator_impl.cc:81] Allocation of 222735744 exceeds 10% of free system memory.\n",
            "2020-12-06 12:29:04.728361: W tensorflow/core/framework/cpu_allocator_impl.cc:81] Allocation of 222735744 exceeds 10% of free system memory.\n",
            "2020-12-06 12:29:04.849056: W tensorflow/core/framework/cpu_allocator_impl.cc:81] Allocation of 222735744 exceeds 10% of free system memory.\n",
            "2020-12-06 12:29:05.034283: W tensorflow/core/framework/cpu_allocator_impl.cc:81] Allocation of 222735744 exceeds 10% of free system memory.\n",
            "2020-12-06 12:29:05.185521: W tensorflow/core/framework/cpu_allocator_impl.cc:81] Allocation of 222735744 exceeds 10% of free system memory.\n",
            "2020-12-06 12:29:07.490220: I tensorflow/stream_executor/platform/default/dso_loader.cc:48] Successfully opened dynamic library libcudnn.so.7\n",
            "2020-12-06 12:29:12.160285: I tensorflow/stream_executor/platform/default/dso_loader.cc:48] Successfully opened dynamic library libcublas.so.10\n",
            "INFO:tensorflow:Evaluation [40/403]\n",
            "I1206 12:31:40.616342 139798610216832 evaluation.py:167] Evaluation [40/403]\n",
            "tcmalloc: large alloc 1103077376 bytes == 0x13439e000 @  0x7f25663b5b6b 0x7f25663d5379 0x7f25429d5c87 0x7f2533f223ef 0x7f2533faa6eb 0x7f2533e1a2d6 0x7f2533e1b19c 0x7f2533e1b427 0x7f2540cf32f8 0x7f25406d6852 0x7f253409faef 0x7f2534094af5 0x7f2533dc0990 0x7f2534152db1 0x7f253414faa3 0x7f253413ead5 0x7f2565d976db 0x7f25660d071f\n",
            "INFO:tensorflow:Evaluation [80/403]\n",
            "I1206 12:34:01.311979 139798610216832 evaluation.py:167] Evaluation [80/403]\n",
            "INFO:tensorflow:Evaluation [120/403]\n",
            "I1206 12:36:31.749225 139798610216832 evaluation.py:167] Evaluation [120/403]\n",
            "INFO:tensorflow:Evaluation [160/403]\n",
            "I1206 12:38:49.921327 139798610216832 evaluation.py:167] Evaluation [160/403]\n",
            "INFO:tensorflow:Evaluation [200/403]\n",
            "I1206 12:40:57.176707 139798610216832 evaluation.py:167] Evaluation [200/403]\n",
            "INFO:tensorflow:Evaluation [240/403]\n",
            "I1206 12:43:22.348781 139798610216832 evaluation.py:167] Evaluation [240/403]\n",
            "INFO:tensorflow:Evaluation [280/403]\n",
            "I1206 12:45:38.050932 139798610216832 evaluation.py:167] Evaluation [280/403]\n",
            "tcmalloc: large alloc 1226817536 bytes == 0x7f22042c8000 @  0x7f25663b5b6b 0x7f25663d5379 0x7f25429d5c87 0x7f2533f223ef 0x7f2533faa6eb 0x7f2533e1a2d6 0x7f2533e1b19c 0x7f2533e1b427 0x7f2540cf32f8 0x7f25406d6852 0x7f253409faef 0x7f2534094af5 0x7f2533dc0990 0x7f2534152db1 0x7f253414faa3 0x7f253413ead5 0x7f2565d976db 0x7f25660d071f\n",
            "INFO:tensorflow:Evaluation [320/403]\n",
            "I1206 12:47:58.775260 139798610216832 evaluation.py:167] Evaluation [320/403]\n",
            "INFO:tensorflow:Evaluation [360/403]\n",
            "I1206 12:50:20.825258 139798610216832 evaluation.py:167] Evaluation [360/403]\n",
            "INFO:tensorflow:Evaluation [400/403]\n",
            "I1206 12:52:37.224710 139798610216832 evaluation.py:167] Evaluation [400/403]\n",
            "INFO:tensorflow:Evaluation [403/403]\n",
            "I1206 12:52:44.242521 139798610216832 evaluation.py:167] Evaluation [403/403]\n",
            "creating index...\n",
            "index created!\n",
            "Loading and preparing results...\n",
            "Converting ndarray to lists...\n",
            "(322400, 7)\n",
            "0/322400\n",
            "DONE (t=2.45s)\n",
            "creating index...\n",
            "index created!\n",
            "Running per image evaluation...\n",
            "Evaluate annotation type *bbox*\n",
            "DONE (t=114.28s).\n",
            "Accumulating evaluation results...\n",
            "DONE (t=3.32s).\n",
            " Average Precision  (AP) @[ IoU=0.50:0.95 | area=   all | maxDets=100 ] = 0.369\n",
            " Average Precision  (AP) @[ IoU=0.50      | area=   all | maxDets=100 ] = 0.643\n",
            " Average Precision  (AP) @[ IoU=0.75      | area=   all | maxDets=100 ] = 0.383\n",
            " Average Precision  (AP) @[ IoU=0.50:0.95 | area= small | maxDets=100 ] = 0.245\n",
            " Average Precision  (AP) @[ IoU=0.50:0.95 | area=medium | maxDets=100 ] = 0.650\n",
            " Average Precision  (AP) @[ IoU=0.50:0.95 | area= large | maxDets=100 ] = 0.711\n",
            " Average Recall     (AR) @[ IoU=0.50:0.95 | area=   all | maxDets=  1 ] = 0.061\n",
            " Average Recall     (AR) @[ IoU=0.50:0.95 | area=   all | maxDets= 10 ] = 0.237\n",
            " Average Recall     (AR) @[ IoU=0.50:0.95 | area=   all | maxDets=100 ] = 0.421\n",
            " Average Recall     (AR) @[ IoU=0.50:0.95 | area= small | maxDets=100 ] = 0.306\n",
            " Average Recall     (AR) @[ IoU=0.50:0.95 | area=medium | maxDets=100 ] = 0.710\n",
            " Average Recall     (AR) @[ IoU=0.50:0.95 | area= large | maxDets=100 ] = 0.779\n",
            "INFO:tensorflow:Inference Time : 1557.47816s\n",
            "I1206 12:54:45.402345 139798610216832 evaluation.py:273] Inference Time : 1557.47816s\n",
            "INFO:tensorflow:Finished evaluation at 2020-12-06-12:54:45\n",
            "I1206 12:54:45.402601 139798610216832 evaluation.py:276] Finished evaluation at 2020-12-06-12:54:45\n",
            "INFO:tensorflow:Saving dict for global step 141680: AP = 0.36889344, AP50 = 0.6428327, AP75 = 0.38276666, APl = 0.71121097, APm = 0.649679, APs = 0.2452404, ARl = 0.77913976, ARm = 0.70980686, ARmax1 = 0.060571473, ARmax10 = 0.23667195, ARmax100 = 0.4211505, ARs = 0.30605102, box_loss = 0.0022422292, cls_loss = 0.19318768, global_step = 141680, loss = 0.42961615\n",
            "I1206 12:54:45.402826 139798610216832 estimator.py:2063] Saving dict for global step 141680: AP = 0.36889344, AP50 = 0.6428327, AP75 = 0.38276666, APl = 0.71121097, APm = 0.649679, APs = 0.2452404, ARl = 0.77913976, ARm = 0.70980686, ARmax1 = 0.060571473, ARmax10 = 0.23667195, ARmax100 = 0.4211505, ARs = 0.30605102, box_loss = 0.0022422292, cls_loss = 0.19318768, global_step = 141680, loss = 0.42961615\n",
            "INFO:tensorflow:Saving 'checkpoint_path' summary for global step 141680: /content/drive/My Drive/tmp/model_dir/efficientdet-d7-finetune/archive/model.ckpt-141680\n",
            "I1206 12:54:47.898424 139798610216832 estimator.py:2124] Saving 'checkpoint_path' summary for global step 141680: /content/drive/My Drive/tmp/model_dir/efficientdet-d7-finetune/archive/model.ckpt-141680\n",
            "INFO:tensorflow:/content/drive/My Drive/tmp/model_dir/efficientdet-d7-finetune/archive/archive/model.ckpt-141680 is not in all_model_checkpoint_paths. Manually adding it.\n",
            "I1206 12:54:57.133452 139798610216832 checkpoint_management.py:102] /content/drive/My Drive/tmp/model_dir/efficientdet-d7-finetune/archive/archive/model.ckpt-141680 is not in all_model_checkpoint_paths. Manually adding it.\n",
            "I1206 12:54:57.145632 139798610216832 utils.py:465] Copying checkpoint /content/drive/My Drive/tmp/model_dir/efficientdet-d7-finetune/archive/model.ckpt-141680 to /content/drive/My Drive/tmp/model_dir/efficientdet-d7-finetune/archive/archive\n",
            "INFO:tensorflow:Waiting for new checkpoint at /content/drive/My Drive/tmp/model_dir/efficientdet-d7-finetune/archive\n",
            "I1206 12:54:57.145871 139798610216832 checkpoint_utils.py:125] Waiting for new checkpoint at /content/drive/My Drive/tmp/model_dir/efficientdet-d7-finetune/archive\n",
            "\n"
          ],
          "name": "stdout"
        }
      ]
    },
    {
      "cell_type": "markdown",
      "metadata": {
        "id": "dg7rosaQIKev"
      },
      "source": [
        "Results after **22 epochs**\n",
        "\n",
        "```\n",
        "  Average Precision  (AP) @[ IoU=0.50:0.95 | area=   all | maxDets=100 ] = 0.369\n",
        " Average Precision  (AP) @[ IoU=0.50      | area=   all | maxDets=100 ] = 0.643\n",
        " Average Precision  (AP) @[ IoU=0.75      | area=   all | maxDets=100 ] = 0.383\n",
        " Average Precision  (AP) @[ IoU=0.50:0.95 | area= small | maxDets=100 ] = 0.245\n",
        " Average Precision  (AP) @[ IoU=0.50:0.95 | area=medium | maxDets=100 ] = 0.650\n",
        " Average Precision  (AP) @[ IoU=0.50:0.95 | area= large | maxDets=100 ] = 0.711\n",
        " Average Recall     (AR) @[ IoU=0.50:0.95 | area=   all | maxDets=  1 ] = 0.061\n",
        " Average Recall     (AR) @[ IoU=0.50:0.95 | area=   all | maxDets= 10 ] = 0.237\n",
        " Average Recall     (AR) @[ IoU=0.50:0.95 | area=   all | maxDets=100 ] = 0.421\n",
        " Average Recall     (AR) @[ IoU=0.50:0.95 | area= small | maxDets=100 ] = 0.306\n",
        " Average Recall     (AR) @[ IoU=0.50:0.95 | area=medium | maxDets=100 ] = 0.710\n",
        " Average Recall     (AR) @[ IoU=0.50:0.95 | area= large | maxDets=100 ] = 0.779\n",
        "```\n"
      ]
    },
    {
      "cell_type": "markdown",
      "metadata": {
        "id": "mDp_acD1pUcx"
      },
      "source": [
        "## 2.2 Model evaluation on Faces_DD dataset. Hi-res"
      ]
    },
    {
      "cell_type": "code",
      "metadata": {
        "id": "prR2uqeIv5-x",
        "colab": {
          "base_uri": "https://localhost:8080/"
        },
        "outputId": "459d2f1f-22d0-40b2-b3c9-a05a680f44f5"
      },
      "source": [
        "!mkdir tfrecord\n",
        "!PYTHONPATH=\".:$PYTHONPATH\"  python dataset/create_faces_tfrecord.py  \\\n",
        "  --data_dir=''   --output_path=tfrecord/faces"
      ],
      "execution_count": 11,
      "outputs": [
        {
          "output_type": "stream",
          "text": [
            "mkdir: cannot create directory ‘tfrecord’: File exists\n",
            "2020-12-06 12:56:42.214421: I tensorflow/stream_executor/platform/default/dso_loader.cc:48] Successfully opened dynamic library libcudart.so.10.1\n",
            "I1206 12:56:43.735532 140289675466624 create_faces_tfrecord.py:206] Writing to output directory: tfrecord\n",
            "I1206 12:56:43.745956 140289675466624 create_faces_tfrecord.py:230] Reading from Faces_DD dataset.\n",
            "I1206 12:56:43.746086 140289675466624 create_faces_tfrecord.py:235] On image 0 of 925\n",
            "I1206 12:56:46.437187 140289675466624 create_faces_tfrecord.py:235] On image 100 of 925\n",
            "I1206 12:56:49.009261 140289675466624 create_faces_tfrecord.py:235] On image 200 of 925\n",
            "I1206 12:56:53.071203 140289675466624 create_faces_tfrecord.py:235] On image 300 of 925\n",
            "I1206 12:56:57.686155 140289675466624 create_faces_tfrecord.py:235] On image 400 of 925\n",
            "I1206 12:57:01.156416 140289675466624 create_faces_tfrecord.py:235] On image 500 of 925\n",
            "I1206 12:57:04.333498 140289675466624 create_faces_tfrecord.py:235] On image 600 of 925\n",
            "I1206 12:57:08.054868 140289675466624 create_faces_tfrecord.py:235] On image 700 of 925\n",
            "I1206 12:57:12.362972 140289675466624 create_faces_tfrecord.py:235] On image 800 of 925\n",
            "I1206 12:57:16.325983 140289675466624 create_faces_tfrecord.py:235] On image 900 of 925\n"
          ],
          "name": "stdout"
        }
      ]
    },
    {
      "cell_type": "code",
      "metadata": {
        "id": "bd3Exa-sv5-2",
        "colab": {
          "base_uri": "https://localhost:8080/"
        },
        "outputId": "3c21c4bd-a708-4a7f-e007-50410d73daf4"
      },
      "source": [
        "# Faces_DD has 925 train images with 25 shards epoch, here we use a single shard\n",
        "# for demo, but users should use all shards pascal-*-of-00100.tfrecord.\n",
        "file_pattern_face = 'faces-*-of-00025.tfrecord'  #\n",
        "images_per_epoch = 37 * len(tf.io.gfile.glob('tfrecord/' + file_pattern_face))\n",
        "images_per_epoch = images_per_epoch // 8*8  # round to 8.\n",
        "print('images_per_epoch = {}'.format(images_per_epoch))"
      ],
      "execution_count": 12,
      "outputs": [
        {
          "output_type": "stream",
          "text": [
            "images_per_epoch = 920\n"
          ],
          "name": "stdout"
        }
      ]
    },
    {
      "cell_type": "code",
      "metadata": {
        "id": "QLxqgUwPSLOn"
      },
      "source": [
        "# generating train tfrecord is large, so we skip the execution here.\n",
        "import os\n",
        "\n",
        "# key option: use --ckpt \n",
        "!python main.py --mode=eval \\\n",
        "    --validation_file_pattern=tfrecord/{file_pattern_face} \\\n",
        "    --model_name={MODEL} \\\n",
        "    --model_dir='{OUTPUT_DIR}/model_dir/{MODEL}-finetune/archive' \\\n",
        "    --ckpt={MODEL} \\\n",
        "    --eval_batch_size=8 --eval_samples=920  \\\n",
        "    --hparams=\"num_classes=2,moving_average_decay=0,mixed_precision=true, max_instances_per_image=2000, grad_checkpoint=True\" #mixed_precision=true only for V100"
      ],
      "execution_count": null,
      "outputs": []
    },
    {
      "cell_type": "markdown",
      "metadata": {
        "id": "7DZeaDvdZHNG"
      },
      "source": [
        "Results on Faces_DD with model **trained 1 epochs** on WiderFace\n",
        "\n",
        "```\n",
        " Average Precision  (AP) @[ IoU=0.50:0.95 | area=   all | maxDets=100 ] = 0.645\n",
        " Average Precision  (AP) @[ IoU=0.50      | area=   all | maxDets=100 ] = 0.940\n",
        " Average Precision  (AP) @[ IoU=0.75      | area=   all | maxDets=100 ] = 0.775\n",
        " Average Precision  (AP) @[ IoU=0.50:0.95 | area= small | maxDets=100 ] = 0.284\n",
        " Average Precision  (AP) @[ IoU=0.50:0.95 | area=medium | maxDets=100 ] = 0.552\n",
        " Average Precision  (AP) @[ IoU=0.50:0.95 | area= large | maxDets=100 ] = 0.694\n",
        " Average Recall     (AR) @[ IoU=0.50:0.95 | area=   all | maxDets=  1 ] = 0.261\n",
        " Average Recall     (AR) @[ IoU=0.50:0.95 | area=   all | maxDets= 10 ] = 0.611\n",
        " Average Recall     (AR) @[ IoU=0.50:0.95 | area=   all | maxDets=100 ] = 0.732\n",
        " Average Recall     (AR) @[ IoU=0.50:0.95 | area= small | maxDets=100 ] = 0.393\n",
        " Average Recall     (AR) @[ IoU=0.50:0.95 | area=medium | maxDets=100 ] = 0.651\n",
        " Average Recall     (AR) @[ IoU=0.50:0.95 | area= large | maxDets=100 ] = 0.776\n",
        "```\n"
      ]
    },
    {
      "cell_type": "markdown",
      "metadata": {
        "id": "L7eGQk7XItU3"
      },
      "source": [
        "Results on Faces_DD with model **trained 2 epochs** on WiderFace\n",
        "\n",
        "```\n",
        " Average Precision  (AP) @[ IoU=0.50:0.95 | area=   all | maxDets=100 ] = 0.645\n",
        " Average Precision  (AP) @[ IoU=0.50      | area=   all | maxDets=100 ] = 0.948\n",
        " Average Precision  (AP) @[ IoU=0.75      | area=   all | maxDets=100 ] = 0.777\n",
        " Average Precision  (AP) @[ IoU=0.50:0.95 | area= small | maxDets=100 ] = 0.297\n",
        " Average Precision  (AP) @[ IoU=0.50:0.95 | area=medium | maxDets=100 ] = 0.559\n",
        " Average Precision  (AP) @[ IoU=0.50:0.95 | area= large | maxDets=100 ] = 0.690\n",
        " Average Recall     (AR) @[ IoU=0.50:0.95 | area=   all | maxDets=  1 ] = 0.263\n",
        " Average Recall     (AR) @[ IoU=0.50:0.95 | area=   all | maxDets= 10 ] = 0.610\n",
        " Average Recall     (AR) @[ IoU=0.50:0.95 | area=   all | maxDets=100 ] = 0.727\n",
        " Average Recall     (AR) @[ IoU=0.50:0.95 | area= small | maxDets=100 ] = 0.417\n",
        " Average Recall     (AR) @[ IoU=0.50:0.95 | area=medium | maxDets=100 ] = 0.658\n",
        " Average Recall     (AR) @[ IoU=0.50:0.95 | area= large | maxDets=100 ] = 0.767\n",
        "```\n"
      ]
    },
    {
      "cell_type": "markdown",
      "metadata": {
        "id": "URePOqE31NXq"
      },
      "source": [
        "Results on Faces_DD with model **trained 6 epochs** on WiderFace\n",
        "\n",
        "```\n",
        " Average Precision  (AP) @[ IoU=0.50:0.95 | area=   all | maxDets=100 ] = 0.658\n",
        " Average Precision  (AP) @[ IoU=0.50      | area=   all | maxDets=100 ] = 0.952\n",
        " Average Precision  (AP) @[ IoU=0.75      | area=   all | maxDets=100 ] = 0.801\n",
        " Average Precision  (AP) @[ IoU=0.50:0.95 | area= small | maxDets=100 ] = 0.322\n",
        " Average Precision  (AP) @[ IoU=0.50:0.95 | area=medium | maxDets=100 ] = 0.568\n",
        " Average Precision  (AP) @[ IoU=0.50:0.95 | area= large | maxDets=100 ] = 0.703\n",
        " Average Recall     (AR) @[ IoU=0.50:0.95 | area=   all | maxDets=  1 ] = 0.265\n",
        " Average Recall     (AR) @[ IoU=0.50:0.95 | area=   all | maxDets= 10 ] = 0.618\n",
        " Average Recall     (AR) @[ IoU=0.50:0.95 | area=   all | maxDets=100 ] = 0.733\n",
        " Average Recall     (AR) @[ IoU=0.50:0.95 | area= small | maxDets=100 ] = 0.445\n",
        " Average Recall     (AR) @[ IoU=0.50:0.95 | area=medium | maxDets=100 ] = 0.667\n",
        " Average Recall     (AR) @[ IoU=0.50:0.95 | area= large | maxDets=100 ] = 0.771\n",
        "```\n"
      ]
    },
    {
      "cell_type": "markdown",
      "metadata": {
        "id": "SvP6ufPwuT36"
      },
      "source": [
        "**D7** Results on Faces_DD with model **trained 7 epochs** on WiderFace\n",
        "\n",
        "```\n",
        " Average Precision  (AP) @[ IoU=0.50:0.95 | area=   all | maxDets=100 ] = 0.645\n",
        " Average Precision  (AP) @[ IoU=0.50      | area=   all | maxDets=100 ] = 0.956\n",
        " Average Precision  (AP) @[ IoU=0.75      | area=   all | maxDets=100 ] = 0.781\n",
        " Average Precision  (AP) @[ IoU=0.50:0.95 | area= small | maxDets=100 ] = 0.337\n",
        " Average Precision  (AP) @[ IoU=0.50:0.95 | area=medium | maxDets=100 ] = 0.587\n",
        " Average Precision  (AP) @[ IoU=0.50:0.95 | area= large | maxDets=100 ] = 0.681\n",
        " Average Recall     (AR) @[ IoU=0.50:0.95 | area=   all | maxDets=  1 ] = 0.257\n",
        " Average Recall     (AR) @[ IoU=0.50:0.95 | area=   all | maxDets= 10 ] = 0.609\n",
        " Average Recall     (AR) @[ IoU=0.50:0.95 | area=   all | maxDets=100 ] = 0.725\n",
        " Average Recall     (AR) @[ IoU=0.50:0.95 | area= small | maxDets=100 ] = 0.469\n",
        " Average Recall     (AR) @[ IoU=0.50:0.95 | area=medium | maxDets=100 ] = 0.676\n",
        " Average Recall     (AR) @[ IoU=0.50:0.95 | area= large | maxDets=100 ] = 0.756\n",
        "```\n"
      ]
    },
    {
      "cell_type": "markdown",
      "metadata": {
        "id": "cxiSKu-wktB_"
      },
      "source": [
        "**D7** Results on Faces_DD with model **trained 13 epochs** on WiderFace\n",
        "\n",
        "```\n",
        " Average Precision  (AP) @[ IoU=0.50:0.95 | area=   all | maxDets=100 ] = 0.659\n",
        " Average Precision  (AP) @[ IoU=0.50      | area=   all | maxDets=100 ] = 0.954\n",
        " Average Precision  (AP) @[ IoU=0.75      | area=   all | maxDets=100 ] = 0.798\n",
        " Average Precision  (AP) @[ IoU=0.50:0.95 | area= small | maxDets=100 ] = 0.331\n",
        " Average Precision  (AP) @[ IoU=0.50:0.95 | area=medium | maxDets=100 ] = 0.585\n",
        " Average Precision  (AP) @[ IoU=0.50:0.95 | area= large | maxDets=100 ] = 0.699\n",
        " Average Recall     (AR) @[ IoU=0.50:0.95 | area=   all | maxDets=  1 ] = 0.265\n",
        " Average Recall     (AR) @[ IoU=0.50:0.95 | area=   all | maxDets= 10 ] = 0.619\n",
        " Average Recall     (AR) @[ IoU=0.50:0.95 | area=   all | maxDets=100 ] = 0.734\n",
        " Average Recall     (AR) @[ IoU=0.50:0.95 | area= small | maxDets=100 ] = 0.459\n",
        " Average Recall     (AR) @[ IoU=0.50:0.95 | area=medium | maxDets=100 ] = 0.674\n",
        " Average Recall     (AR) @[ IoU=0.50:0.95 | area= large | maxDets=100 ] = 0.769\n",
        "```\n"
      ]
    },
    {
      "cell_type": "markdown",
      "metadata": {
        "id": "qsc1m5nzIU_0"
      },
      "source": [
        "**D7** Results on Faces_DD with model **trained 22 epochs** on WiderFace\n",
        "\n",
        "```\n",
        " Average Precision  (AP) @[ IoU=0.50:0.95 | area=   all | maxDets=100 ] = 0.664\n",
        " Average Precision  (AP) @[ IoU=0.50      | area=   all | maxDets=100 ] = 0.955\n",
        " Average Precision  (AP) @[ IoU=0.75      | area=   all | maxDets=100 ] = 0.797\n",
        " Average Precision  (AP) @[ IoU=0.50:0.95 | area= small | maxDets=100 ] = 0.335\n",
        " Average Precision  (AP) @[ IoU=0.50:0.95 | area=medium | maxDets=100 ] = 0.602\n",
        " Average Precision  (AP) @[ IoU=0.50:0.95 | area= large | maxDets=100 ] = 0.701\n",
        " Average Recall     (AR) @[ IoU=0.50:0.95 | area=   all | maxDets=  1 ] = 0.266\n",
        " Average Recall     (AR) @[ IoU=0.50:0.95 | area=   all | maxDets= 10 ] = 0.626\n",
        " Average Recall     (AR) @[ IoU=0.50:0.95 | area=   all | maxDets=100 ] = 0.740\n",
        " Average Recall     (AR) @[ IoU=0.50:0.95 | area= small | maxDets=100 ] = 0.469\n",
        " Average Recall     (AR) @[ IoU=0.50:0.95 | area=medium | maxDets=100 ] = 0.694\n",
        " Average Recall     (AR) @[ IoU=0.50:0.95 | area= large | maxDets=100 ] = 0.769\n",
        "```\n"
      ]
    },
    {
      "cell_type": "markdown",
      "metadata": {
        "id": "jGKs3w2_ZXnu"
      },
      "source": [
        "# 3 Inference images.\n",
        "\n",
        "---\n",
        "\n"
      ]
    },
    {
      "cell_type": "code",
      "metadata": {
        "id": "-bsmJsz67hTP"
      },
      "source": [
        "%%capture\n",
        "# first export a saved model.\n",
        "saved_model_dir = 'savedmodel'\n",
        "!rm -rf {saved_model_dir}\n",
        "!python model_inspect.py --runmode=saved_model --model_name={MODEL} \\\n",
        "  --ckpt_path='{OUTPUT_DIR}/model_dir/{MODEL}-finetune/archive'  \\\n",
        "  --saved_model_dir={saved_model_dir} \\\n",
        "  --hparams=\"num_classes=2,moving_average_decay=0,mixed_precision=false\""
      ],
      "execution_count": 14,
      "outputs": []
    },
    {
      "cell_type": "code",
      "metadata": {
        "id": "tlh_S6M9ahe5"
      },
      "source": [
        "# Then run saved_model_infer to do inference.\n",
        "# Notably: batch_size, image_size must be the same as when it is exported.\n",
        "serve_image_out = 'serve_image_out'\n",
        "!mkdir {serve_image_out}\n",
        "\n",
        "#'WIDER/WIDER_val/images/0--Parade/0_Parade_marchingband_1_147.jpg' \\\n",
        "#'WIDER/WIDER_val/images/2--Demonstration/2_Demonstration_Demonstration_Or_Protest_2_441.jpg' \\\n",
        "\n",
        "!python model_inspect.py --runmode=saved_model_infer \\\n",
        "  --saved_model_dir={saved_model_dir} \\\n",
        "  --model_name={MODEL}  \\\n",
        "  --input_image='WIDER/WIDER_val/images/2--Demonstration/2_Demonstration_Demonstration_Or_Protest_2_441.jpg' \\\n",
        "  --output_image_dir={serve_image_out} \\\n",
        "  --min_score_thresh={min_score_thresh}  --max_boxes_to_draw={max_boxes_to_draw}"
      ],
      "execution_count": null,
      "outputs": []
    },
    {
      "cell_type": "code",
      "metadata": {
        "id": "1q2x8s8GpUJz",
        "colab": {
          "base_uri": "https://localhost:8080/",
          "height": 726
        },
        "outputId": "33e49f57-5f50-47c8-db5e-88ab2b520432"
      },
      "source": [
        "from IPython import display\n",
        "display.display(display.Image(os.path.join(serve_image_out, '0.jpg')))"
      ],
      "execution_count": 16,
      "outputs": [
        {
          "output_type": "display_data",
          "data": {
            "image/jpeg": "[encoded data removed]",
            "text/plain": [
              "<IPython.core.display.Image object>"
            ]
          },
          "metadata": {
            "tags": []
          }
        }
      ]
    }
  ]
}